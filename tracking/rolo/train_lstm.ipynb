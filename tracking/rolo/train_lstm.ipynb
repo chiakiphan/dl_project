{
 "cells": [
  {
   "cell_type": "code",
   "execution_count": null,
   "metadata": {},
   "outputs": [],
   "source": [
    "import tensorflow as tf\n",
    "import numpy as np\n",
    "import os\n",
    "import cv2\n",
    "from tqdm.notebook import tqdm"
   ]
  },
  {
   "cell_type": "code",
   "execution_count": null,
   "metadata": {},
   "outputs": [],
   "source": [
    "path_to_train_dir = '/home/kpst/dataset/OTB'\n",
    "path_to_test = '/home/kpst/PycharmProjects/yolov1/data/test/test1.npy'\n",
    "name_label_file = 'groundtruth_rect.txt'\n",
    "name_train_file = 'yolo_out'\n",
    "train_data = []\n",
    "labels = []\n",
    "image_size = (480, 640)\n",
    "n_step = 3\n",
    "n_output = 4\n",
    "n_predict = 6\n",
    "n_feature = 4096\n",
    "n_input = n_feature + n_predict\n",
    "n_heatmap = 1024\n",
    "batch_size = 16\n",
    "EPOCH = 200\n",
    "learning_rate = 0.00001\n",
    "datas = []\n",
    "name_data = []"
   ]
  },
  {
   "cell_type": "code",
   "execution_count": null,
   "metadata": {},
   "outputs": [],
   "source": [
    "def load_label(path_to_label, scale):\n",
    "    lines, labels = [], []\n",
    "    \n",
    "    with open (path_to_label, 'r') as fr:\n",
    "        lines = fr.read().split('\\n')\n",
    "    \n",
    "    for line in lines:\n",
    "        if len(line) > 0:\n",
    "            bbox     = [int(e) for e in line.split(',') if ',' in line]\n",
    "            if len(bbox) < 4:\n",
    "                bbox = [int(e) for e in line.split('\\t')]\n",
    "            bbox[0]  = (bbox[0]+bbox[2]/2)/scale[1]\n",
    "            bbox[1]  = (bbox[1]+bbox[3]/2)/scale[0]\n",
    "            bbox[2] /= scale[1]\n",
    "            bbox[3] /= scale[0]\n",
    "\n",
    "            labels.append(bbox)\n",
    "    return labels"
   ]
  },
  {
   "cell_type": "code",
   "execution_count": null,
   "metadata": {},
   "outputs": [],
   "source": [
    "data_len = 0\n",
    "for folder in sorted(os.listdir(path_to_train_dir)):\n",
    "    base_path = os.path.join(path_to_train_dir, folder)\n",
    "    path_to_label = os.path.join(base_path, name_label_file)\n",
    "    path_to_train = os.path.join(base_path, name_train_file)\n",
    "    path_to_img   = os.path.join(base_path, 'img')\n",
    "    \n",
    "    scale = cv2.imread(os.path.join(path_to_img, os.listdir(path_to_img)[0])).shape\n",
    "    \n",
    "    data_label = load_label(path_to_label, scale)\n",
    "    train      = os.listdir(path_to_train)\n",
    "    if len(data_label) != len(train):\n",
    "        print(folder, len(data_label), len(train))\n",
    "        continue\n",
    "    data_feature = []\n",
    "    data_name = []\n",
    "    for sample in sorted(train):\n",
    "        feature = np.load(os.path.join(path_to_train, sample))\n",
    "        feature[0][4096] = 0\n",
    "        feature[0][4101] = 0\n",
    "        data_feature.append(feature)\n",
    "        data_name.append(os.path.join(path_to_img, sample))\n",
    "    data_len    += len(data_name)\n",
    "    data_name    = np.stack(data_name)\n",
    "    data_label   = np.stack(data_label)\n",
    "    data_feature = np.stack(data_feature)\n",
    "    datas.append((data_feature, data_label, data_name))\n",
    "data_len"
   ]
  },
  {
   "cell_type": "code",
   "execution_count": null,
   "metadata": {},
   "outputs": [],
   "source": [
    "STEP_PER_EPOCH = data_len//(batch_size*n_step)\n",
    "TEST = int(STEP_PER_EPOCH*0.9)\n",
    "TEST"
   ]
  },
  {
   "cell_type": "code",
   "execution_count": null,
   "metadata": {},
   "outputs": [],
   "source": [
    "batch_data = []\n",
    "for data in datas[:-1]:\n",
    "    feat, label, name = data\n",
    "    n_bs = feat.shape[0]//(batch_size*n_step)\n",
    "    end = n_bs * batch_size * n_step\n",
    "    if end - feat.shape[0] != 0:\n",
    "        feat_bs  = feat[:end]\n",
    "        label_bs = label[:end]\n",
    "        name_bs  = name[:end]\n",
    "        feat     = np.concatenate((feat_bs,  feat[feat.shape[0]-batch_size*n_step:]), axis=0)\n",
    "        label    = np.concatenate((label_bs,label[label.shape[0]-batch_size*n_step:]), axis=0)\n",
    "        name     = np.concatenate((name_bs,  name[name.shape[0]-batch_size*n_step:]), axis=0)\n",
    "\n",
    "    feat_bs = np.reshape(feat, (-1, batch_size, n_step, n_input))\n",
    "    label_bs = np.reshape(label, (-1, batch_size, n_step, n_output))\n",
    "    name_bs = np.reshape(name, (-1,batch_size, n_step))    \n",
    "    batch_data.append((feat_bs, label_bs, name_bs))    "
   ]
  },
  {
   "cell_type": "code",
   "execution_count": null,
   "metadata": {},
   "outputs": [],
   "source": [
    "train_data, test_data = batch_data[:-1], batch_data[-1]"
   ]
  },
  {
   "cell_type": "code",
   "execution_count": null,
   "metadata": {},
   "outputs": [],
   "source": [
    "from tensorflow.keras.layers import LSTM, Dense\n",
    "\n",
    "X_in = tf.keras.layers.Input((n_step, n_input))\n",
    "# X = tf.keras.layers.LSTM(n_input)(X_in)\n",
    "X = tf.keras.layers.LSTM(512, return_sequences=True)(X_in)\n",
    "X = tf.keras.layers.LSTM(512, return_sequences=True)(X)\n",
    "X = tf.keras.layers.TimeDistributed(Dense(256))(X)\n",
    "X = tf.keras.layers.Flatten()(X)\n",
    "X = tf.keras.layers.Activation('relu')(X)\n",
    "X = tf.keras.layers.Dense(256, activation='relu')(X)\n",
    "X = tf.keras.layers.Dropout(0.3)(X)\n",
    "X = tf.keras.layers.Dense(128, activation='relu')(X)\n",
    "X = Dense(4, activation='sigmoid')(X)\n",
    "model = tf.keras.models.Model(X_in, X)\n",
    "# model = tf.keras.models.Model(X_in, X[:, 4097:4101])\n",
    "model.compile(loss='mse', optimizer=tf.keras.optimizers.Adam(learning_rate=0.00001))\n",
    "model.summary()"
   ]
  },
  {
   "cell_type": "code",
   "execution_count": null,
   "metadata": {},
   "outputs": [],
   "source": [
    "orgi_loss = 100\n",
    "down = 0\n",
    "lr = 0.00001\n",
    "for epoch in range(EPOCH):\n",
    "    print('Epoch {}:'.format(epoch+1))\n",
    "    step = 0\n",
    "    for feature, label, _ in train_data:\n",
    "        for idx in range(label.shape[0]):\n",
    "            train = feature[idx]\n",
    "            dets  = label[idx, :, 2]\n",
    "            loss  = model.train_on_batch(train, dets)\n",
    "            \n",
    "            step += 1\n",
    "            if step%5 == 0:\n",
    "                print('.', end=\"\")\n",
    "    if orgi_loss >= loss:\n",
    "        orgi_loss = loss\n",
    "        down = 0\n",
    "    else:\n",
    "        down += 1\n",
    "    if down == 15:\n",
    "        down = 0\n",
    "        print('\\n#### learning rate drop #####')\n",
    "        lr /= 10 \n",
    "        model.optimizer.learning_rate.assign(lr)\n",
    "    print(\"\\tLoss: \", loss)"
   ]
  },
  {
   "cell_type": "code",
   "execution_count": null,
   "metadata": {},
   "outputs": [],
   "source": [
    "model.optimizer.learning_rate"
   ]
  },
  {
   "cell_type": "code",
   "execution_count": null,
   "metadata": {},
   "outputs": [],
   "source": [
    "model.save_weights(\"model_new1.h5\")"
   ]
  },
  {
   "cell_type": "code",
   "execution_count": null,
   "metadata": {},
   "outputs": [],
   "source": [
    "model.load_weights('model_new.h5')"
   ]
  },
  {
   "cell_type": "code",
   "execution_count": null,
   "metadata": {
    "scrolled": true
   },
   "outputs": [],
   "source": [
    "x_test = np.load(path_to_test)\n",
    "x_test = np.reshape(x_test, (-1, n_step, n_feature))\n",
    "pred = model.predict(x_test)\n",
    "pred"
   ]
  },
  {
   "cell_type": "code",
   "execution_count": null,
   "metadata": {},
   "outputs": [],
   "source": [
    "pred = model.predict(test_data[0][0])\n",
    "pred"
   ]
  },
  {
   "cell_type": "code",
   "execution_count": null,
   "metadata": {},
   "outputs": [],
   "source": [
    "def save_video(frames, size):\n",
    "    out = cv2.VideoWriter('video/walk-1.avi', cv2.VideoWriter_fourcc(*'MJPG'), 20, size)\n",
    "    for img in frames:\n",
    "        out.write(img)\n",
    "    out.release()"
   ]
  },
  {
   "cell_type": "code",
   "execution_count": null,
   "metadata": {},
   "outputs": [],
   "source": [
    "def get_path_image(test_name):\n",
    "    name = test_name.split('.')[0]+'.jpg'\n",
    "    return name"
   ]
  },
  {
   "cell_type": "code",
   "execution_count": null,
   "metadata": {},
   "outputs": [],
   "source": [
    "def convert_coord(pred, scale):    \n",
    "    x, y, w, h = pred\n",
    "    x *= scale[1]\n",
    "    y *= scale[0]\n",
    "    w *= scale[1]\n",
    "    h *= scale[0]\n",
    "    x =  int(x - w//2)\n",
    "    y =  int(y - h//2)\n",
    "    return x, y, int(w), int(h)"
   ]
  },
  {
   "cell_type": "code",
   "execution_count": null,
   "metadata": {},
   "outputs": [],
   "source": [
    "import matplotlib.pyplot as plt\n",
    "\n",
    "\n",
    "def draw_bbox(img, X1, X2, X3):\n",
    "    color = [(255, 0, 0), (0, 255, 0), (0, 0, 255)]\n",
    "    \n",
    "    for idx, X in enumerate((X1, X2, X3)):\n",
    "        x, y, w, h = X\n",
    "        cv2.rectangle(img, (x, y), (x+w, y+h), color[idx], 2)\n",
    "        cv2.putText(img, 'rolo', (5, 5), cv2.FONT_HERSHEY_SIMPLEX, 0.5, color[0], 1)\n",
    "        cv2.putText(img, 'ground truth', (5, 15), cv2.FONT_HERSHEY_SIMPLEX, 0.5, color[1], 1)\n",
    "        cv2.putText(img, 'yolo', (5, 30), cv2.FONT_HERSHEY_SIMPLEX, 0.5, color[2], 1)\n",
    "#     plt.imshow(img[:,:,::-1])\n",
    "#     plt.show()\n",
    "    return img "
   ]
  },
  {
   "cell_type": "code",
   "execution_count": null,
   "metadata": {},
   "outputs": [],
   "source": [
    "def calculate_dist(X1, X2):\n",
    "    x1, y1, w1, h1 = X1\n",
    "    x2, y2, w2, h2 = X2\n",
    "    a = np.array((x1+w1//2, y1+h1//2))\n",
    "    b = np.array((x2+w2//2, y2+h2//2))\n",
    "    dist = np.linalg.norm(a-b)\n",
    "    return dist "
   ]
  },
  {
   "cell_type": "code",
   "execution_count": null,
   "metadata": {},
   "outputs": [],
   "source": [
    "def print_result(batch, n):\n",
    "    pred = model.predict(batch_data[n][0][batch])\n",
    "    dists = []\n",
    "    video = []\n",
    "    for idx, p in enumerate(pred):\n",
    "        path = get_path_image(batch_data[n][2][batch][idx][2])\n",
    "        img = cv2.imread(path)\n",
    "        scale = img.shape\n",
    "        x, y, w, h = convert_coord(p, scale)\n",
    "        x_tr, y_tr, w_tr, h_tr = convert_coord(batch_data[n][1][batch][idx][2], scale)\n",
    "        x_d, y_d, w_d, h_d = convert_coord(batch_data[n][0][batch][idx][2][4097:4101], scale)\n",
    "        dists.append(calculate_dist((x, y, w, h), (x_tr, y_tr, w_tr, h_tr)))\n",
    "        img = draw_bbox(img, (x, y, w, h), (x_tr, y_tr, w_tr, h_tr), (x_d, y_d, w_d, h_d))\n",
    "        video.append(img)\n",
    "        print(\"Predict: \", x, y, w, h)\n",
    "        print(\"True:    \", x_tr, y_tr, w_tr, h_tr)\n",
    "        print(\"Yolo:    \", x_d, y_d, w_d, h_d)\n",
    "    size = video[0].shape[:2][::-1]\n",
    "    return dists, video"
   ]
  },
  {
   "cell_type": "code",
   "execution_count": null,
   "metadata": {},
   "outputs": [],
   "source": [
    "print_result(4, -1)"
   ]
  },
  {
   "cell_type": "code",
   "execution_count": null,
   "metadata": {},
   "outputs": [],
   "source": [
    "dists, video = [], []\n",
    "for i in range(len(test_data[0])):\n",
    "    dis, vid = print_result(i, -1)\n",
    "    dists+=dis\n",
    "    video+=vid"
   ]
  },
  {
   "cell_type": "code",
   "execution_count": null,
   "metadata": {},
   "outputs": [],
   "source": [
    "size = video[0].shape[:2][::-1]\n",
    "save_video(video, size)"
   ]
  },
  {
   "cell_type": "code",
   "execution_count": null,
   "metadata": {},
   "outputs": [],
   "source": [
    "dists = np.asarray(dists)\n",
    "np.average(dists)"
   ]
  },
  {
   "cell_type": "code",
   "execution_count": null,
   "metadata": {},
   "outputs": [],
   "source": [
    "def iou(box1, box2):\n",
    "    tb = min(box1[0] + 0.5 * box1[2], box2[0] + 0.5 * box2[2]) - max(box1[0] - 0.5 * box1[2],\n",
    "                                                                     box2[0] - 0.5 * box2[2])\n",
    "    lr = min(box1[1] + 0.5 * box1[3], box2[1] + 0.5 * box2[3]) - max(box1[1] - 0.5 * box1[3],\n",
    "                                                                     box2[1] - 0.5 * box2[3])\n",
    "    if tb < 0 or lr < 0:\n",
    "        intersection = 0\n",
    "    else:\n",
    "        intersection = tb * lr\n",
    "    return intersection / (box1[2] * box1[3] + box2[2] * box2[3] - intersection)"
   ]
  }
 ],
 "metadata": {
  "kernelspec": {
   "display_name": "Python 3",
   "language": "python",
   "name": "python3"
  },
  "language_info": {
   "codemirror_mode": {
    "name": "ipython",
    "version": 3
   },
   "file_extension": ".py",
   "mimetype": "text/x-python",
   "name": "python",
   "nbconvert_exporter": "python",
   "pygments_lexer": "ipython3",
   "version": "3.7.6"
  }
 },
 "nbformat": 4,
 "nbformat_minor": 4
}
