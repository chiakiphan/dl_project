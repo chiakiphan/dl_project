{
  "nbformat": 4,
  "nbformat_minor": 0,
  "metadata": {
    "colab": {
      "name": "NER_Product(PhoBert_Base_Feature_Extraction).ipynb",
      "provenance": [],
      "collapsed_sections": [
        "jMlEkVv_qP3N",
        "hhXBySlHfyJm"
      ]
    },
    "kernelspec": {
      "name": "python3",
      "display_name": "Python 3"
    },
    "accelerator": "GPU"
  },
  "cells": [
    {
      "cell_type": "markdown",
      "metadata": {
        "id": "hqFZ9S8iYjAt",
        "colab_type": "text"
      },
      "source": [
        "#Config"
      ]
    },
    {
      "cell_type": "code",
      "metadata": {
        "id": "uTpTqgffYdFj",
        "colab_type": "code",
        "outputId": "d6e5fe0b-e735-49df-d239-55b6bb151921",
        "colab": {
          "base_uri": "https://localhost:8080/",
          "height": 695
        }
      },
      "source": [
        "!pip install transformers==2.6.0"
      ],
      "execution_count": 0,
      "outputs": [
        {
          "output_type": "stream",
          "text": [
            "Collecting transformers==2.6.0\n",
            "\u001b[?25l  Downloading https://files.pythonhosted.org/packages/4c/a0/32e3a4501ef480f7ea01aac329a716132f32f7911ef1c2fac228acc57ca7/transformers-2.6.0-py3-none-any.whl (540kB)\n",
            "\r\u001b[K     |▋                               | 10kB 23.7MB/s eta 0:00:01\r\u001b[K     |█▏                              | 20kB 6.0MB/s eta 0:00:01\r\u001b[K     |█▉                              | 30kB 7.6MB/s eta 0:00:01\r\u001b[K     |██▍                             | 40kB 7.2MB/s eta 0:00:01\r\u001b[K     |███                             | 51kB 6.7MB/s eta 0:00:01\r\u001b[K     |███▋                            | 61kB 7.2MB/s eta 0:00:01\r\u001b[K     |████▎                           | 71kB 7.6MB/s eta 0:00:01\r\u001b[K     |████▉                           | 81kB 7.1MB/s eta 0:00:01\r\u001b[K     |█████▌                          | 92kB 7.2MB/s eta 0:00:01\r\u001b[K     |██████                          | 102kB 7.5MB/s eta 0:00:01\r\u001b[K     |██████▋                         | 112kB 7.5MB/s eta 0:00:01\r\u001b[K     |███████▎                        | 122kB 7.5MB/s eta 0:00:01\r\u001b[K     |███████▉                        | 133kB 7.5MB/s eta 0:00:01\r\u001b[K     |████████▌                       | 143kB 7.5MB/s eta 0:00:01\r\u001b[K     |█████████                       | 153kB 7.5MB/s eta 0:00:01\r\u001b[K     |█████████▊                      | 163kB 7.5MB/s eta 0:00:01\r\u001b[K     |██████████▎                     | 174kB 7.5MB/s eta 0:00:01\r\u001b[K     |███████████                     | 184kB 7.5MB/s eta 0:00:01\r\u001b[K     |███████████▌                    | 194kB 7.5MB/s eta 0:00:01\r\u001b[K     |████████████▏                   | 204kB 7.5MB/s eta 0:00:01\r\u001b[K     |████████████▊                   | 215kB 7.5MB/s eta 0:00:01\r\u001b[K     |█████████████▎                  | 225kB 7.5MB/s eta 0:00:01\r\u001b[K     |██████████████                  | 235kB 7.5MB/s eta 0:00:01\r\u001b[K     |██████████████▌                 | 245kB 7.5MB/s eta 0:00:01\r\u001b[K     |███████████████▏                | 256kB 7.5MB/s eta 0:00:01\r\u001b[K     |███████████████▊                | 266kB 7.5MB/s eta 0:00:01\r\u001b[K     |████████████████▍               | 276kB 7.5MB/s eta 0:00:01\r\u001b[K     |█████████████████               | 286kB 7.5MB/s eta 0:00:01\r\u001b[K     |█████████████████▋              | 296kB 7.5MB/s eta 0:00:01\r\u001b[K     |██████████████████▏             | 307kB 7.5MB/s eta 0:00:01\r\u001b[K     |██████████████████▉             | 317kB 7.5MB/s eta 0:00:01\r\u001b[K     |███████████████████▍            | 327kB 7.5MB/s eta 0:00:01\r\u001b[K     |████████████████████            | 337kB 7.5MB/s eta 0:00:01\r\u001b[K     |████████████████████▋           | 348kB 7.5MB/s eta 0:00:01\r\u001b[K     |█████████████████████▏          | 358kB 7.5MB/s eta 0:00:01\r\u001b[K     |█████████████████████▉          | 368kB 7.5MB/s eta 0:00:01\r\u001b[K     |██████████████████████▍         | 378kB 7.5MB/s eta 0:00:01\r\u001b[K     |███████████████████████         | 389kB 7.5MB/s eta 0:00:01\r\u001b[K     |███████████████████████▋        | 399kB 7.5MB/s eta 0:00:01\r\u001b[K     |████████████████████████▎       | 409kB 7.5MB/s eta 0:00:01\r\u001b[K     |████████████████████████▉       | 419kB 7.5MB/s eta 0:00:01\r\u001b[K     |█████████████████████████▍      | 430kB 7.5MB/s eta 0:00:01\r\u001b[K     |██████████████████████████      | 440kB 7.5MB/s eta 0:00:01\r\u001b[K     |██████████████████████████▋     | 450kB 7.5MB/s eta 0:00:01\r\u001b[K     |███████████████████████████▎    | 460kB 7.5MB/s eta 0:00:01\r\u001b[K     |███████████████████████████▉    | 471kB 7.5MB/s eta 0:00:01\r\u001b[K     |████████████████████████████▌   | 481kB 7.5MB/s eta 0:00:01\r\u001b[K     |█████████████████████████████   | 491kB 7.5MB/s eta 0:00:01\r\u001b[K     |█████████████████████████████▊  | 501kB 7.5MB/s eta 0:00:01\r\u001b[K     |██████████████████████████████▎ | 512kB 7.5MB/s eta 0:00:01\r\u001b[K     |███████████████████████████████ | 522kB 7.5MB/s eta 0:00:01\r\u001b[K     |███████████████████████████████▌| 532kB 7.5MB/s eta 0:00:01\r\u001b[K     |████████████████████████████████| 542kB 7.5MB/s \n",
            "\u001b[?25hRequirement already satisfied: tqdm>=4.27 in /usr/local/lib/python3.6/dist-packages (from transformers==2.6.0) (4.41.1)\n",
            "Requirement already satisfied: numpy in /usr/local/lib/python3.6/dist-packages (from transformers==2.6.0) (1.18.4)\n",
            "Requirement already satisfied: filelock in /usr/local/lib/python3.6/dist-packages (from transformers==2.6.0) (3.0.12)\n",
            "Collecting sacremoses\n",
            "\u001b[?25l  Downloading https://files.pythonhosted.org/packages/7d/34/09d19aff26edcc8eb2a01bed8e98f13a1537005d31e95233fd48216eed10/sacremoses-0.0.43.tar.gz (883kB)\n",
            "\r\u001b[K     |▍                               | 10kB 31.8MB/s eta 0:00:01\r\u001b[K     |▊                               | 20kB 35.6MB/s eta 0:00:01\r\u001b[K     |█▏                              | 30kB 42.8MB/s eta 0:00:01\r\u001b[K     |█▌                              | 40kB 29.8MB/s eta 0:00:01\r\u001b[K     |█▉                              | 51kB 21.9MB/s eta 0:00:01\r\u001b[K     |██▎                             | 61kB 24.7MB/s eta 0:00:01\r\u001b[K     |██▋                             | 71kB 21.4MB/s eta 0:00:01\r\u001b[K     |███                             | 81kB 23.2MB/s eta 0:00:01\r\u001b[K     |███▍                            | 92kB 20.7MB/s eta 0:00:01\r\u001b[K     |███▊                            | 102kB 22.1MB/s eta 0:00:01\r\u001b[K     |████                            | 112kB 22.1MB/s eta 0:00:01\r\u001b[K     |████▌                           | 122kB 22.1MB/s eta 0:00:01\r\u001b[K     |████▉                           | 133kB 22.1MB/s eta 0:00:01\r\u001b[K     |█████▏                          | 143kB 22.1MB/s eta 0:00:01\r\u001b[K     |█████▋                          | 153kB 22.1MB/s eta 0:00:01\r\u001b[K     |██████                          | 163kB 22.1MB/s eta 0:00:01\r\u001b[K     |██████▎                         | 174kB 22.1MB/s eta 0:00:01\r\u001b[K     |██████▊                         | 184kB 22.1MB/s eta 0:00:01\r\u001b[K     |███████                         | 194kB 22.1MB/s eta 0:00:01\r\u001b[K     |███████▍                        | 204kB 22.1MB/s eta 0:00:01\r\u001b[K     |███████▉                        | 215kB 22.1MB/s eta 0:00:01\r\u001b[K     |████████▏                       | 225kB 22.1MB/s eta 0:00:01\r\u001b[K     |████████▌                       | 235kB 22.1MB/s eta 0:00:01\r\u001b[K     |█████████                       | 245kB 22.1MB/s eta 0:00:01\r\u001b[K     |█████████▎                      | 256kB 22.1MB/s eta 0:00:01\r\u001b[K     |█████████▋                      | 266kB 22.1MB/s eta 0:00:01\r\u001b[K     |██████████                      | 276kB 22.1MB/s eta 0:00:01\r\u001b[K     |██████████▍                     | 286kB 22.1MB/s eta 0:00:01\r\u001b[K     |██████████▊                     | 296kB 22.1MB/s eta 0:00:01\r\u001b[K     |███████████▏                    | 307kB 22.1MB/s eta 0:00:01\r\u001b[K     |███████████▌                    | 317kB 22.1MB/s eta 0:00:01\r\u001b[K     |███████████▉                    | 327kB 22.1MB/s eta 0:00:01\r\u001b[K     |████████████▎                   | 337kB 22.1MB/s eta 0:00:01\r\u001b[K     |████████████▋                   | 348kB 22.1MB/s eta 0:00:01\r\u001b[K     |█████████████                   | 358kB 22.1MB/s eta 0:00:01\r\u001b[K     |█████████████▍                  | 368kB 22.1MB/s eta 0:00:01\r\u001b[K     |█████████████▊                  | 378kB 22.1MB/s eta 0:00:01\r\u001b[K     |██████████████                  | 389kB 22.1MB/s eta 0:00:01\r\u001b[K     |██████████████▌                 | 399kB 22.1MB/s eta 0:00:01\r\u001b[K     |██████████████▉                 | 409kB 22.1MB/s eta 0:00:01\r\u001b[K     |███████████████▏                | 419kB 22.1MB/s eta 0:00:01\r\u001b[K     |███████████████▋                | 430kB 22.1MB/s eta 0:00:01\r\u001b[K     |████████████████                | 440kB 22.1MB/s eta 0:00:01\r\u001b[K     |████████████████▎               | 450kB 22.1MB/s eta 0:00:01\r\u001b[K     |████████████████▊               | 460kB 22.1MB/s eta 0:00:01\r\u001b[K     |█████████████████               | 471kB 22.1MB/s eta 0:00:01\r\u001b[K     |█████████████████▍              | 481kB 22.1MB/s eta 0:00:01\r\u001b[K     |█████████████████▉              | 491kB 22.1MB/s eta 0:00:01\r\u001b[K     |██████████████████▏             | 501kB 22.1MB/s eta 0:00:01\r\u001b[K     |██████████████████▌             | 512kB 22.1MB/s eta 0:00:01\r\u001b[K     |███████████████████             | 522kB 22.1MB/s eta 0:00:01\r\u001b[K     |███████████████████▎            | 532kB 22.1MB/s eta 0:00:01\r\u001b[K     |███████████████████▋            | 542kB 22.1MB/s eta 0:00:01\r\u001b[K     |████████████████████            | 552kB 22.1MB/s eta 0:00:01\r\u001b[K     |████████████████████▍           | 563kB 22.1MB/s eta 0:00:01\r\u001b[K     |████████████████████▊           | 573kB 22.1MB/s eta 0:00:01\r\u001b[K     |█████████████████████▏          | 583kB 22.1MB/s eta 0:00:01\r\u001b[K     |█████████████████████▌          | 593kB 22.1MB/s eta 0:00:01\r\u001b[K     |█████████████████████▉          | 604kB 22.1MB/s eta 0:00:01\r\u001b[K     |██████████████████████▎         | 614kB 22.1MB/s eta 0:00:01\r\u001b[K     |██████████████████████▋         | 624kB 22.1MB/s eta 0:00:01\r\u001b[K     |███████████████████████         | 634kB 22.1MB/s eta 0:00:01\r\u001b[K     |███████████████████████▍        | 645kB 22.1MB/s eta 0:00:01\r\u001b[K     |███████████████████████▊        | 655kB 22.1MB/s eta 0:00:01\r\u001b[K     |████████████████████████        | 665kB 22.1MB/s eta 0:00:01\r\u001b[K     |████████████████████████▌       | 675kB 22.1MB/s eta 0:00:01\r\u001b[K     |████████████████████████▉       | 686kB 22.1MB/s eta 0:00:01\r\u001b[K     |█████████████████████████▏      | 696kB 22.1MB/s eta 0:00:01\r\u001b[K     |█████████████████████████▋      | 706kB 22.1MB/s eta 0:00:01\r\u001b[K     |██████████████████████████      | 716kB 22.1MB/s eta 0:00:01\r\u001b[K     |██████████████████████████▎     | 727kB 22.1MB/s eta 0:00:01\r\u001b[K     |██████████████████████████▊     | 737kB 22.1MB/s eta 0:00:01\r\u001b[K     |███████████████████████████     | 747kB 22.1MB/s eta 0:00:01\r\u001b[K     |███████████████████████████▍    | 757kB 22.1MB/s eta 0:00:01\r\u001b[K     |███████████████████████████▉    | 768kB 22.1MB/s eta 0:00:01\r\u001b[K     |████████████████████████████▏   | 778kB 22.1MB/s eta 0:00:01\r\u001b[K     |████████████████████████████▌   | 788kB 22.1MB/s eta 0:00:01\r\u001b[K     |█████████████████████████████   | 798kB 22.1MB/s eta 0:00:01\r\u001b[K     |█████████████████████████████▎  | 808kB 22.1MB/s eta 0:00:01\r\u001b[K     |█████████████████████████████▋  | 819kB 22.1MB/s eta 0:00:01\r\u001b[K     |██████████████████████████████  | 829kB 22.1MB/s eta 0:00:01\r\u001b[K     |██████████████████████████████▍ | 839kB 22.1MB/s eta 0:00:01\r\u001b[K     |██████████████████████████████▊ | 849kB 22.1MB/s eta 0:00:01\r\u001b[K     |███████████████████████████████▏| 860kB 22.1MB/s eta 0:00:01\r\u001b[K     |███████████████████████████████▌| 870kB 22.1MB/s eta 0:00:01\r\u001b[K     |███████████████████████████████▉| 880kB 22.1MB/s eta 0:00:01\r\u001b[K     |████████████████████████████████| 890kB 22.1MB/s \n",
            "\u001b[?25hRequirement already satisfied: requests in /usr/local/lib/python3.6/dist-packages (from transformers==2.6.0) (2.23.0)\n",
            "Requirement already satisfied: boto3 in /usr/local/lib/python3.6/dist-packages (from transformers==2.6.0) (1.13.4)\n",
            "Collecting sentencepiece\n",
            "\u001b[?25l  Downloading https://files.pythonhosted.org/packages/3b/88/49e772d686088e1278766ad68a463513642a2a877487decbd691dec02955/sentencepiece-0.1.90-cp36-cp36m-manylinux1_x86_64.whl (1.1MB)\n",
            "\u001b[K     |████████████████████████████████| 1.1MB 39.1MB/s \n",
            "\u001b[?25hCollecting tokenizers==0.5.2\n",
            "\u001b[?25l  Downloading https://files.pythonhosted.org/packages/d1/3f/73c881ea4723e43c1e9acf317cf407fab3a278daab3a69c98dcac511c04f/tokenizers-0.5.2-cp36-cp36m-manylinux1_x86_64.whl (3.7MB)\n",
            "\u001b[K     |████████████████████████████████| 3.7MB 54.7MB/s \n",
            "\u001b[?25hRequirement already satisfied: regex!=2019.12.17 in /usr/local/lib/python3.6/dist-packages (from transformers==2.6.0) (2019.12.20)\n",
            "Requirement already satisfied: six in /usr/local/lib/python3.6/dist-packages (from sacremoses->transformers==2.6.0) (1.12.0)\n",
            "Requirement already satisfied: click in /usr/local/lib/python3.6/dist-packages (from sacremoses->transformers==2.6.0) (7.1.2)\n",
            "Requirement already satisfied: joblib in /usr/local/lib/python3.6/dist-packages (from sacremoses->transformers==2.6.0) (0.14.1)\n",
            "Requirement already satisfied: idna<3,>=2.5 in /usr/local/lib/python3.6/dist-packages (from requests->transformers==2.6.0) (2.9)\n",
            "Requirement already satisfied: chardet<4,>=3.0.2 in /usr/local/lib/python3.6/dist-packages (from requests->transformers==2.6.0) (3.0.4)\n",
            "Requirement already satisfied: certifi>=2017.4.17 in /usr/local/lib/python3.6/dist-packages (from requests->transformers==2.6.0) (2020.4.5.1)\n",
            "Requirement already satisfied: urllib3!=1.25.0,!=1.25.1,<1.26,>=1.21.1 in /usr/local/lib/python3.6/dist-packages (from requests->transformers==2.6.0) (1.24.3)\n",
            "Requirement already satisfied: s3transfer<0.4.0,>=0.3.0 in /usr/local/lib/python3.6/dist-packages (from boto3->transformers==2.6.0) (0.3.3)\n",
            "Requirement already satisfied: botocore<1.17.0,>=1.16.4 in /usr/local/lib/python3.6/dist-packages (from boto3->transformers==2.6.0) (1.16.4)\n",
            "Requirement already satisfied: jmespath<1.0.0,>=0.7.1 in /usr/local/lib/python3.6/dist-packages (from boto3->transformers==2.6.0) (0.9.5)\n",
            "Requirement already satisfied: python-dateutil<3.0.0,>=2.1 in /usr/local/lib/python3.6/dist-packages (from botocore<1.17.0,>=1.16.4->boto3->transformers==2.6.0) (2.8.1)\n",
            "Requirement already satisfied: docutils<0.16,>=0.10 in /usr/local/lib/python3.6/dist-packages (from botocore<1.17.0,>=1.16.4->boto3->transformers==2.6.0) (0.15.2)\n",
            "Building wheels for collected packages: sacremoses\n",
            "  Building wheel for sacremoses (setup.py) ... \u001b[?25l\u001b[?25hdone\n",
            "  Created wheel for sacremoses: filename=sacremoses-0.0.43-cp36-none-any.whl size=893260 sha256=178bdde410e30e74a8f7f47a7e8be58fb887687c842fb0448a2f4c76d0260b59\n",
            "  Stored in directory: /root/.cache/pip/wheels/29/3c/fd/7ce5c3f0666dab31a50123635e6fb5e19ceb42ce38d4e58f45\n",
            "Successfully built sacremoses\n",
            "Installing collected packages: sacremoses, sentencepiece, tokenizers, transformers\n",
            "Successfully installed sacremoses-0.0.43 sentencepiece-0.1.90 tokenizers-0.5.2 transformers-2.6.0\n"
          ],
          "name": "stdout"
        }
      ]
    },
    {
      "cell_type": "code",
      "metadata": {
        "id": "egqq-nMHYtDG",
        "colab_type": "code",
        "outputId": "3a41a612-2862-4431-f44d-f5480123f187",
        "colab": {
          "base_uri": "https://localhost:8080/",
          "height": 444
        }
      },
      "source": [
        "!pip install fairseq"
      ],
      "execution_count": 0,
      "outputs": [
        {
          "output_type": "stream",
          "text": [
            "Collecting fairseq\n",
            "\u001b[?25l  Downloading https://files.pythonhosted.org/packages/67/bf/de299e082e7af010d35162cb9a185dc6c17db71624590f2f379aeb2519ff/fairseq-0.9.0.tar.gz (306kB)\n",
            "\u001b[K     |████████████████████████████████| 307kB 8.7MB/s \n",
            "\u001b[?25hRequirement already satisfied: cffi in /usr/local/lib/python3.6/dist-packages (from fairseq) (1.14.0)\n",
            "Requirement already satisfied: cython in /usr/local/lib/python3.6/dist-packages (from fairseq) (0.29.17)\n",
            "Requirement already satisfied: numpy in /usr/local/lib/python3.6/dist-packages (from fairseq) (1.18.4)\n",
            "Requirement already satisfied: regex in /usr/local/lib/python3.6/dist-packages (from fairseq) (2019.12.20)\n",
            "Collecting sacrebleu\n",
            "\u001b[?25l  Downloading https://files.pythonhosted.org/packages/6e/9d/9846507837ca50ae20917f59d83b79246b8313bd19d4f5bf575ecb98132b/sacrebleu-1.4.9-py3-none-any.whl (60kB)\n",
            "\u001b[K     |████████████████████████████████| 61kB 7.9MB/s \n",
            "\u001b[?25hRequirement already satisfied: torch in /usr/local/lib/python3.6/dist-packages (from fairseq) (1.5.0+cu101)\n",
            "Requirement already satisfied: tqdm in /usr/local/lib/python3.6/dist-packages (from fairseq) (4.41.1)\n",
            "Requirement already satisfied: pycparser in /usr/local/lib/python3.6/dist-packages (from cffi->fairseq) (2.20)\n",
            "Requirement already satisfied: typing in /usr/local/lib/python3.6/dist-packages (from sacrebleu->fairseq) (3.6.6)\n",
            "Collecting portalocker\n",
            "  Downloading https://files.pythonhosted.org/packages/53/84/7b3146ec6378d28abc73ab484f09f47dfa008ad6f03f33d90a369f880e25/portalocker-1.7.0-py2.py3-none-any.whl\n",
            "Requirement already satisfied: future in /usr/local/lib/python3.6/dist-packages (from torch->fairseq) (0.16.0)\n",
            "Building wheels for collected packages: fairseq\n",
            "  Building wheel for fairseq (setup.py) ... \u001b[?25l\u001b[?25hdone\n",
            "  Created wheel for fairseq: filename=fairseq-0.9.0-cp36-cp36m-linux_x86_64.whl size=2035391 sha256=ba37476b7480707b165a8b38c6280e6a2f8d7861e061160a658a3a008bf31f72\n",
            "  Stored in directory: /root/.cache/pip/wheels/37/3e/1b/0fa30695dcba41e4b0088067fa40f3328d1e8ee78c22cd4766\n",
            "Successfully built fairseq\n",
            "Installing collected packages: portalocker, sacrebleu, fairseq\n",
            "Successfully installed fairseq-0.9.0 portalocker-1.7.0 sacrebleu-1.4.9\n"
          ],
          "name": "stdout"
        }
      ]
    },
    {
      "cell_type": "code",
      "metadata": {
        "id": "AxPmfRKEYvWM",
        "colab_type": "code",
        "outputId": "ba103efd-afab-4742-8622-16e291729203",
        "colab": {
          "base_uri": "https://localhost:8080/",
          "height": 177
        }
      },
      "source": [
        "!pip install fastBPE"
      ],
      "execution_count": 0,
      "outputs": [
        {
          "output_type": "stream",
          "text": [
            "Collecting fastBPE\n",
            "  Downloading https://files.pythonhosted.org/packages/e1/37/f97181428a5d151501b90b2cebedf97c81b034ace753606a3cda5ad4e6e2/fastBPE-0.1.0.tar.gz\n",
            "Building wheels for collected packages: fastBPE\n",
            "  Building wheel for fastBPE (setup.py) ... \u001b[?25l\u001b[?25hdone\n",
            "  Created wheel for fastBPE: filename=fastBPE-0.1.0-cp36-cp36m-linux_x86_64.whl size=479285 sha256=1fff22173d35669628e2971449235add1d234a540d5d6d3c33be912ddd4b4e85\n",
            "  Stored in directory: /root/.cache/pip/wheels/f3/0c/9c/fc62058b4d473a5602bcd3d3edfece796f123875379ea82d79\n",
            "Successfully built fastBPE\n",
            "Installing collected packages: fastBPE\n",
            "Successfully installed fastBPE-0.1.0\n"
          ],
          "name": "stdout"
        }
      ]
    },
    {
      "cell_type": "code",
      "metadata": {
        "id": "aZBCwr9NdWhS",
        "colab_type": "code",
        "outputId": "8ba7c611-6eaa-4069-a214-87310712c6cf",
        "colab": {
          "base_uri": "https://localhost:8080/",
          "height": 319
        }
      },
      "source": [
        "!pip install seqeval"
      ],
      "execution_count": 0,
      "outputs": [
        {
          "output_type": "stream",
          "text": [
            "Collecting seqeval\n",
            "  Downloading https://files.pythonhosted.org/packages/34/91/068aca8d60ce56dd9ba4506850e876aba5e66a6f2f29aa223224b50df0de/seqeval-0.0.12.tar.gz\n",
            "Requirement already satisfied: numpy>=1.14.0 in /usr/local/lib/python3.6/dist-packages (from seqeval) (1.18.4)\n",
            "Requirement already satisfied: Keras>=2.2.4 in /usr/local/lib/python3.6/dist-packages (from seqeval) (2.3.1)\n",
            "Requirement already satisfied: keras-applications>=1.0.6 in /usr/local/lib/python3.6/dist-packages (from Keras>=2.2.4->seqeval) (1.0.8)\n",
            "Requirement already satisfied: scipy>=0.14 in /usr/local/lib/python3.6/dist-packages (from Keras>=2.2.4->seqeval) (1.4.1)\n",
            "Requirement already satisfied: h5py in /usr/local/lib/python3.6/dist-packages (from Keras>=2.2.4->seqeval) (2.10.0)\n",
            "Requirement already satisfied: keras-preprocessing>=1.0.5 in /usr/local/lib/python3.6/dist-packages (from Keras>=2.2.4->seqeval) (1.1.0)\n",
            "Requirement already satisfied: six>=1.9.0 in /usr/local/lib/python3.6/dist-packages (from Keras>=2.2.4->seqeval) (1.12.0)\n",
            "Requirement already satisfied: pyyaml in /usr/local/lib/python3.6/dist-packages (from Keras>=2.2.4->seqeval) (3.13)\n",
            "Building wheels for collected packages: seqeval\n",
            "  Building wheel for seqeval (setup.py) ... \u001b[?25l\u001b[?25hdone\n",
            "  Created wheel for seqeval: filename=seqeval-0.0.12-cp36-none-any.whl size=7424 sha256=73f69c74968fd1f16e1e810f3d2bc74acaa9712d5aac19a5e54d9cd004ae7a19\n",
            "  Stored in directory: /root/.cache/pip/wheels/4f/32/0a/df3b340a82583566975377d65e724895b3fad101a3fb729f68\n",
            "Successfully built seqeval\n",
            "Installing collected packages: seqeval\n",
            "Successfully installed seqeval-0.0.12\n"
          ],
          "name": "stdout"
        }
      ]
    },
    {
      "cell_type": "code",
      "metadata": {
        "id": "I6xCcDtbY3f0",
        "colab_type": "code",
        "outputId": "36fb1640-fe48-43cb-8ba5-3267fb702966",
        "colab": {
          "base_uri": "https://localhost:8080/",
          "height": 35
        }
      },
      "source": [
        "import torch\n",
        "import argparse\n",
        "import numpy as np\n",
        "import matplotlib.pyplot as plt\n",
        "import transformers\n",
        "import pandas as pd\n",
        "\n",
        "from torch import nn\n",
        "from torch.utils.data import DataLoader, RandomSampler, TensorDataset, SequentialSampler\n",
        "\n",
        "from fairseq.data.encoders.fastbpe import fastBPE\n",
        "from fairseq.data import Dictionary\n",
        "\n",
        "from transformers import RobertaConfig, RobertaModel\n",
        "from transformers import AdamW\n",
        "from transformers import get_linear_schedule_with_warmup\n",
        "\n",
        "from keras.preprocessing.sequence import pad_sequences\n",
        "from sklearn.model_selection import train_test_split\n",
        "from tqdm.notebook import trange\n",
        "from seqeval.metrics import f1_score"
      ],
      "execution_count": 0,
      "outputs": [
        {
          "output_type": "stream",
          "text": [
            "Using TensorFlow backend.\n"
          ],
          "name": "stderr"
        }
      ]
    },
    {
      "cell_type": "code",
      "metadata": {
        "id": "FHPeu0KffDOr",
        "colab_type": "code",
        "colab": {}
      },
      "source": [
        "MAX_LEN = 60\n",
        "batch_sz = 16\n",
        "epochs = 5\n",
        "max_grad_norm = 1.0"
      ],
      "execution_count": 0,
      "outputs": []
    },
    {
      "cell_type": "code",
      "metadata": {
        "id": "9TpMivmBw95V",
        "colab_type": "code",
        "outputId": "00d24cec-8c57-4a1e-ed62-20d0edecbdef",
        "colab": {
          "base_uri": "https://localhost:8080/",
          "height": 35
        }
      },
      "source": [
        "device = torch.device(\"cuda\" if torch.cuda.is_available() else \"cpu\")\n",
        "n_gpu = torch.cuda.device_count()\n",
        "print('{}: {}'.format(device, n_gpu))"
      ],
      "execution_count": 0,
      "outputs": [
        {
          "output_type": "stream",
          "text": [
            "cuda: 1\n"
          ],
          "name": "stdout"
        }
      ]
    },
    {
      "cell_type": "code",
      "metadata": {
        "id": "DkaSEhRSIQqs",
        "colab_type": "code",
        "outputId": "ebafd46a-f292-4274-c7f5-87386d57f20b",
        "colab": {
          "base_uri": "https://localhost:8080/",
          "height": 126
        }
      },
      "source": [
        "from google.colab import drive\n",
        "drive.mount('/content/drive')"
      ],
      "execution_count": 0,
      "outputs": [
        {
          "output_type": "stream",
          "text": [
            "Go to this URL in a browser: https://accounts.google.com/o/oauth2/auth?client_id=947318989803-6bn6qk8qdgf4n4g3pfee6491hc0brc4i.apps.googleusercontent.com&redirect_uri=urn%3aietf%3awg%3aoauth%3a2.0%3aoob&response_type=code&scope=email%20https%3a%2f%2fwww.googleapis.com%2fauth%2fdocs.test%20https%3a%2f%2fwww.googleapis.com%2fauth%2fdrive%20https%3a%2f%2fwww.googleapis.com%2fauth%2fdrive.photos.readonly%20https%3a%2f%2fwww.googleapis.com%2fauth%2fpeopleapi.readonly\n",
            "\n",
            "Enter your authorization code:\n",
            "··········\n",
            "Mounted at /content/drive\n"
          ],
          "name": "stdout"
        }
      ]
    },
    {
      "cell_type": "markdown",
      "metadata": {
        "id": "DrQh9wLOfJpC",
        "colab_type": "text"
      },
      "source": [
        "#Load Data\n"
      ]
    },
    {
      "cell_type": "markdown",
      "metadata": {
        "id": "0EO5x0SxoorZ",
        "colab_type": "text"
      },
      "source": [
        "**Read Data**"
      ]
    },
    {
      "cell_type": "code",
      "metadata": {
        "id": "VcgSUnfPfIxT",
        "colab_type": "code",
        "outputId": "baf6da7b-de32-4000-8b26-d6e0166af9fb",
        "colab": {
          "base_uri": "https://localhost:8080/",
          "height": 340
        }
      },
      "source": [
        "data = pd.read_csv('/content/drive/My Drive/data/ner_products_bio.csv', header=None,\n",
        "                   sep='\\t', encoding='utf8', names=['Sentence#', 'Word', 'Tag'])\n",
        "data.head(10)"
      ],
      "execution_count": 0,
      "outputs": [
        {
          "output_type": "execute_result",
          "data": {
            "text/html": [
              "<div>\n",
              "<style scoped>\n",
              "    .dataframe tbody tr th:only-of-type {\n",
              "        vertical-align: middle;\n",
              "    }\n",
              "\n",
              "    .dataframe tbody tr th {\n",
              "        vertical-align: top;\n",
              "    }\n",
              "\n",
              "    .dataframe thead th {\n",
              "        text-align: right;\n",
              "    }\n",
              "</style>\n",
              "<table border=\"1\" class=\"dataframe\">\n",
              "  <thead>\n",
              "    <tr style=\"text-align: right;\">\n",
              "      <th></th>\n",
              "      <th>Sentence#</th>\n",
              "      <th>Word</th>\n",
              "      <th>Tag</th>\n",
              "    </tr>\n",
              "  </thead>\n",
              "  <tbody>\n",
              "    <tr>\n",
              "      <th>0</th>\n",
              "      <td>1</td>\n",
              "      <td>Nhưng</td>\n",
              "      <td>O</td>\n",
              "    </tr>\n",
              "    <tr>\n",
              "      <th>1</th>\n",
              "      <td>1</td>\n",
              "      <td>hiện_tại</td>\n",
              "      <td>O</td>\n",
              "    </tr>\n",
              "    <tr>\n",
              "      <th>2</th>\n",
              "      <td>1</td>\n",
              "      <td>bạn</td>\n",
              "      <td>O</td>\n",
              "    </tr>\n",
              "    <tr>\n",
              "      <th>3</th>\n",
              "      <td>1</td>\n",
              "      <td>đang</td>\n",
              "      <td>O</td>\n",
              "    </tr>\n",
              "    <tr>\n",
              "      <th>4</th>\n",
              "      <td>1</td>\n",
              "      <td>cho</td>\n",
              "      <td>O</td>\n",
              "    </tr>\n",
              "    <tr>\n",
              "      <th>5</th>\n",
              "      <td>1</td>\n",
              "      <td>bé</td>\n",
              "      <td>O</td>\n",
              "    </tr>\n",
              "    <tr>\n",
              "      <th>6</th>\n",
              "      <td>1</td>\n",
              "      <td>bú</td>\n",
              "      <td>O</td>\n",
              "    </tr>\n",
              "    <tr>\n",
              "      <th>7</th>\n",
              "      <td>1</td>\n",
              "      <td>nên</td>\n",
              "      <td>O</td>\n",
              "    </tr>\n",
              "    <tr>\n",
              "      <th>8</th>\n",
              "      <td>1</td>\n",
              "      <td>bạn</td>\n",
              "      <td>O</td>\n",
              "    </tr>\n",
              "    <tr>\n",
              "      <th>9</th>\n",
              "      <td>1</td>\n",
              "      <td>không</td>\n",
              "      <td>O</td>\n",
              "    </tr>\n",
              "  </tbody>\n",
              "</table>\n",
              "</div>"
            ],
            "text/plain": [
              "   Sentence#      Word Tag\n",
              "0          1     Nhưng   O\n",
              "1          1  hiện_tại   O\n",
              "2          1       bạn   O\n",
              "3          1      đang   O\n",
              "4          1       cho   O\n",
              "5          1        bé   O\n",
              "6          1        bú   O\n",
              "7          1       nên   O\n",
              "8          1       bạn   O\n",
              "9          1     không   O"
            ]
          },
          "metadata": {
            "tags": []
          },
          "execution_count": 9
        }
      ]
    },
    {
      "cell_type": "code",
      "metadata": {
        "id": "uZZOEJcNioYq",
        "colab_type": "code",
        "outputId": "b9bb9de4-ebac-4d6e-ff4c-a487daa9cb6a",
        "colab": {
          "base_uri": "https://localhost:8080/",
          "height": 248
        }
      },
      "source": [
        "tuple_func = lambda f: [(w, t) for w, t in zip(f['Word'].values, f['Tag'].values)]\n",
        "sentences_with_tag = data.groupby('Sentence#').apply(tuple_func)\n",
        "print(sentences_with_tag)\n",
        "sentences_with_tag = [sent for sent in sentences_with_tag]"
      ],
      "execution_count": 0,
      "outputs": [
        {
          "output_type": "stream",
          "text": [
            "Sentence#\n",
            "1       [(Nhưng, O), (hiện_tại, O), (bạn, O), (đang, O...\n",
            "2                        [(Áo, B-pr), (Hm, I-pr), (ạ, O)]\n",
            "3       [(Cho, O), (mình, O), (đặt, O), (cái, O), (bal...\n",
            "4       [(Ac, O), (có, O), (vest, B-pr), (chưa, O), (?...\n",
            "5       [(body, B-pr), (lotion, I-pr), (e, O), (lại, O...\n",
            "                              ...                        \n",
            "2949    [(hiện_tại, O), (ở, O), (thành_phố, O), (cao_l...\n",
            "2950    [(10, B-pr), (+, I-pr), (có, O), (hỗ_trợ, O), ...\n",
            "2951    [(Tôi, O), (có, O), (mua, O), (1, O), (note, B...\n",
            "2952    [(Mình, O), (có, O), (samsung, B-pr), (S7edge,...\n",
            "2953    [(Ad, O), (cko, B-pr), (hoi, O), (gia, O), (hi...\n",
            "Length: 2952, dtype: object\n"
          ],
          "name": "stdout"
        }
      ]
    },
    {
      "cell_type": "code",
      "metadata": {
        "id": "r60imrFdkOpJ",
        "colab_type": "code",
        "outputId": "42689067-381a-45ae-b40e-1e7548745177",
        "colab": {
          "base_uri": "https://localhost:8080/",
          "height": 35
        }
      },
      "source": [
        "sentences = [' '.join([word[0] for word in sent]) for sent in sentences_with_tag]\n",
        "sentences[1]"
      ],
      "execution_count": 0,
      "outputs": [
        {
          "output_type": "execute_result",
          "data": {
            "text/plain": [
              "'Áo Hm ạ'"
            ]
          },
          "metadata": {
            "tags": []
          },
          "execution_count": 11
        }
      ]
    },
    {
      "cell_type": "code",
      "metadata": {
        "id": "Jv4hl9q1kpLq",
        "colab_type": "code",
        "outputId": "0519ab5c-208f-4fc8-f106-968d9aeb9c0c",
        "colab": {
          "base_uri": "https://localhost:8080/",
          "height": 35
        }
      },
      "source": [
        "labels = [[word[1] for word in sent] for sent in sentences_with_tag]\n",
        "labels[1]"
      ],
      "execution_count": 0,
      "outputs": [
        {
          "output_type": "execute_result",
          "data": {
            "text/plain": [
              "['B-pr', 'I-pr', 'O']"
            ]
          },
          "metadata": {
            "tags": []
          },
          "execution_count": 12
        }
      ]
    },
    {
      "cell_type": "code",
      "metadata": {
        "id": "VYmGJG8wk_MM",
        "colab_type": "code",
        "outputId": "a7ffc808-3e06-4466-a3f2-823fd22dca3d",
        "colab": {
          "base_uri": "https://localhost:8080/",
          "height": 35
        }
      },
      "source": [
        "labels_value = ['B-pr','I-pr','O', 'PAD', '[CLS]', '[SEP]', 'X']\n",
        "label2idx = {label:indx for indx, label in enumerate(labels_value)}\n",
        "label2idx"
      ],
      "execution_count": 0,
      "outputs": [
        {
          "output_type": "execute_result",
          "data": {
            "text/plain": [
              "{'B-pr': 0, 'I-pr': 1, 'O': 2, 'PAD': 3, 'X': 6, '[CLS]': 4, '[SEP]': 5}"
            ]
          },
          "metadata": {
            "tags": []
          },
          "execution_count": 13
        }
      ]
    },
    {
      "cell_type": "markdown",
      "metadata": {
        "id": "Nq7o6689grKS",
        "colab_type": "text"
      },
      "source": [
        "***Encode with bpe***"
      ]
    },
    {
      "cell_type": "code",
      "metadata": {
        "id": "ZRffu0CnmGZ4",
        "colab_type": "code",
        "colab": {}
      },
      "source": [
        "parser = argparse.ArgumentParser()\n",
        "parser.add_argument('--bpe-codes', \n",
        "    default=\"/content/drive/My Drive/pre_model/phobert/PhoBERT_base_transformers/bpe.codes\",\n",
        "    required=False,\n",
        "    type=str,  \n",
        "    help='path to fastBPE BPE'\n",
        ")\n",
        "args, unknown = parser.parse_known_args()\n",
        "\n",
        "bpe = fastBPE(args)"
      ],
      "execution_count": 0,
      "outputs": []
    },
    {
      "cell_type": "code",
      "metadata": {
        "id": "FchxuuOUmgd5",
        "colab_type": "code",
        "outputId": "b8462081-b87a-41f4-f823-3e96cbe13345",
        "colab": {
          "base_uri": "https://localhost:8080/",
          "height": 35
        }
      },
      "source": [
        "subwords = ['<s> '+bpe.encode(sent)+' </s>' for sent in sentences]\n",
        "subwords[1] "
      ],
      "execution_count": 0,
      "outputs": [
        {
          "output_type": "execute_result",
          "data": {
            "text/plain": [
              "'<s> Áo H@@ m ạ </s>'"
            ]
          },
          "metadata": {
            "tags": []
          },
          "execution_count": 15
        }
      ]
    },
    {
      "cell_type": "code",
      "metadata": {
        "id": "QJ65kPhdnS3k",
        "colab_type": "code",
        "outputId": "4888bc10-2562-4eb9-fe29-0ab105a544c8",
        "colab": {
          "base_uri": "https://localhost:8080/",
          "height": 279
        }
      },
      "source": [
        "plt.hist([len(s.split()) for s in subwords])\n",
        "plt.xlabel('Number of word')\n",
        "plt.ylabel('Number of sentences')\n",
        "plt.show()"
      ],
      "execution_count": 0,
      "outputs": [
        {
          "output_type": "display_data",
          "data": {
            "image/png": "[encoded data removed]",
            "text/plain": [
              "<Figure size 432x288 with 1 Axes>"
            ]
          },
          "metadata": {
            "tags": [],
            "needs_background": "light"
          }
        }
      ]
    },
    {
      "cell_type": "markdown",
      "metadata": {
        "id": "UaS_WRMKoPz9",
        "colab_type": "text"
      },
      "source": [
        "***Change labels by subword***"
      ]
    },
    {
      "cell_type": "code",
      "metadata": {
        "id": "RY3O9SFPn2lQ",
        "colab_type": "code",
        "colab": {}
      },
      "source": [
        "# Đánh label X cho những từ là subword, thêm label [CLS], [SEP] \n",
        "\"\"\"\n",
        "Câu gốc:\n",
        "  Áo Hm ạ --> ['B-pr', 'I-pr', 'O']\n",
        "Câu sau khi encode:\n",
        "  <s> Áo H@@ m ạ </s> --> ['[CLS]', 'B-pr', 'X', 'I-pr', 'O', '[SEP]']\n",
        "\"\"\" \n",
        "label_subwords = []\n",
        "for i in range(len(subwords)):\n",
        "  indx = 0\n",
        "  label = ['[CLS]']\n",
        "  for word in subwords[i].split()[1:MAX_LEN-1]:\n",
        "    if word == '</s>':\n",
        "      break\n",
        "    if '@@' not in word:\n",
        "      label.append(labels[i][indx])\n",
        "      indx += 1\n",
        "      continue\n",
        "    label.append('X')\n",
        "  label.append('[SEP]')\n",
        "  label_subwords.append(label) "
      ],
      "execution_count": 0,
      "outputs": []
    },
    {
      "cell_type": "code",
      "metadata": {
        "id": "RJWHuchWyRd6",
        "colab_type": "code",
        "outputId": "a6b6c6e8-8303-4be7-dd41-857ced662338",
        "colab": {
          "base_uri": "https://localhost:8080/",
          "height": 35
        }
      },
      "source": [
        "label_subwords[1]"
      ],
      "execution_count": 0,
      "outputs": [
        {
          "output_type": "execute_result",
          "data": {
            "text/plain": [
              "['[CLS]', 'B-pr', 'X', 'I-pr', 'O', '[SEP]']"
            ]
          },
          "metadata": {
            "tags": []
          },
          "execution_count": 18
        }
      ]
    },
    {
      "cell_type": "markdown",
      "metadata": {
        "id": "OnoorgFJhvav",
        "colab_type": "text"
      },
      "source": [
        "***String to number***"
      ]
    },
    {
      "cell_type": "code",
      "metadata": {
        "id": "MtM9Wg6kmeMz",
        "colab_type": "code",
        "colab": {}
      },
      "source": [
        "vocab = Dictionary()\n",
        "vocab.add_from_file(\"/content/drive/My Drive/pre_model/phobert/PhoBERT_large_transformers/dict.txt\")"
      ],
      "execution_count": 0,
      "outputs": []
    },
    {
      "cell_type": "code",
      "metadata": {
        "id": "Rj3CxWSknK4W",
        "colab_type": "code",
        "colab": {}
      },
      "source": [
        "input_ids = pad_sequences([vocab.encode_line(sent, append_eos=False, add_if_not_exist=False).long().tolist() for sent in subwords],\n",
        "                          truncating='post', padding='post', maxlen=MAX_LEN, value=1.0, dtype='long')"
      ],
      "execution_count": 0,
      "outputs": []
    },
    {
      "cell_type": "code",
      "metadata": {
        "id": "spjCT1eljz6v",
        "colab_type": "code",
        "outputId": "4a1c1a1e-3312-44bf-fde2-91deb04437c7",
        "colab": {
          "base_uri": "https://localhost:8080/",
          "height": 124
        }
      },
      "source": [
        "input_ids[1]"
      ],
      "execution_count": 0,
      "outputs": [
        {
          "output_type": "execute_result",
          "data": {
            "text/plain": [
              "array([   0, 3759, 1125,  599, 3628,    2,    1,    1,    1,    1,    1,\n",
              "          1,    1,    1,    1,    1,    1,    1,    1,    1,    1,    1,\n",
              "          1,    1,    1,    1,    1,    1,    1,    1,    1,    1,    1,\n",
              "          1,    1,    1,    1,    1,    1,    1,    1,    1,    1,    1,\n",
              "          1,    1,    1,    1,    1,    1,    1,    1,    1,    1,    1,\n",
              "          1,    1,    1,    1,    1])"
            ]
          },
          "metadata": {
            "tags": []
          },
          "execution_count": 21
        }
      ]
    },
    {
      "cell_type": "code",
      "metadata": {
        "id": "uGiwadUIkHLU",
        "colab_type": "code",
        "outputId": "72055d9f-aa14-45f3-8a80-39a8b0220f91",
        "colab": {
          "base_uri": "https://localhost:8080/",
          "height": 70
        }
      },
      "source": [
        "labels_ids = pad_sequences([[label2idx.get(label) for label in labels] for labels in label_subwords], dtype='long',\n",
        "                            maxlen=MAX_LEN, value=label2idx['PAD'], truncating='post', padding='post')\n",
        "labels_ids[1]"
      ],
      "execution_count": 0,
      "outputs": [
        {
          "output_type": "execute_result",
          "data": {
            "text/plain": [
              "array([4, 0, 6, 1, 2, 5, 3, 3, 3, 3, 3, 3, 3, 3, 3, 3, 3, 3, 3, 3, 3, 3,\n",
              "       3, 3, 3, 3, 3, 3, 3, 3, 3, 3, 3, 3, 3, 3, 3, 3, 3, 3, 3, 3, 3, 3,\n",
              "       3, 3, 3, 3, 3, 3, 3, 3, 3, 3, 3, 3, 3, 3, 3, 3])"
            ]
          },
          "metadata": {
            "tags": []
          },
          "execution_count": 22
        }
      ]
    },
    {
      "cell_type": "code",
      "metadata": {
        "id": "9f6nNRWHlNbi",
        "colab_type": "code",
        "colab": {}
      },
      "source": [
        "attenion_mask = [[float(val != 1) for val in sent] for sent in input_ids]"
      ],
      "execution_count": 0,
      "outputs": []
    },
    {
      "cell_type": "markdown",
      "metadata": {
        "id": "_5ajISqfmBUF",
        "colab_type": "text"
      },
      "source": [
        "***Create train/validation data***"
      ]
    },
    {
      "cell_type": "code",
      "metadata": {
        "id": "UY5UGomjB3EN",
        "colab_type": "code",
        "colab": {}
      },
      "source": [
        "X_test = input_ids[2592:]\n",
        "y_test = labels_ids[2592:]\n",
        "test_mask = attenion_mask[2592:]"
      ],
      "execution_count": 0,
      "outputs": []
    },
    {
      "cell_type": "code",
      "metadata": {
        "id": "JteRr4K7l6rw",
        "colab_type": "code",
        "colab": {}
      },
      "source": [
        "X_train, X_val, y_train, y_val = train_test_split(input_ids[:2592], labels_ids[:2592], random_state=96, test_size=0.2)\n",
        "train_mask, val_mask, _, _ = train_test_split(attenion_mask[:2592], input_ids[:2592], random_state=96, test_size=0.2)"
      ],
      "execution_count": 0,
      "outputs": []
    },
    {
      "cell_type": "code",
      "metadata": {
        "id": "6e6zMj1im3Zy",
        "colab_type": "code",
        "colab": {}
      },
      "source": [
        "# change to tensor\n",
        "X_train = torch.tensor(X_train)\n",
        "X_val = torch.tensor(X_val)\n",
        "X_test = torch.tensor(X_test)\n",
        "y_train = torch.tensor(y_train)\n",
        "y_val = torch.tensor(y_val)\n",
        "y_test = torch.tensor(y_test)\n",
        "train_mask = torch.tensor(train_mask)\n",
        "val_mask = torch.tensor(val_mask)\n",
        "test_mask = torch.tensor(test_mask)"
      ],
      "execution_count": 0,
      "outputs": []
    },
    {
      "cell_type": "code",
      "metadata": {
        "id": "rQHBYd-vnTiy",
        "colab_type": "code",
        "colab": {}
      },
      "source": [
        "#create data loader\n",
        "train_data = TensorDataset(X_train, train_mask, y_train)\n",
        "train_sample = RandomSampler(train_data)\n",
        "train_dataloader = DataLoader(train_data, sampler=train_sample, batch_size=batch_sz)\n",
        "\n",
        "val_data = TensorDataset(X_val, val_mask, y_val)\n",
        "val_sample = SequentialSampler(val_data)\n",
        "val_dataloader = DataLoader(val_data, sampler=val_sample, batch_size=batch_sz)\n",
        "\n",
        "test_data = TensorDataset(X_test, test_mask, y_test)\n",
        "test_sample = SequentialSampler(test_data)\n",
        "test_dataloader = DataLoader(test_data, sampler=test_sample, batch_size=batch_sz)"
      ],
      "execution_count": 0,
      "outputs": []
    },
    {
      "cell_type": "code",
      "metadata": {
        "id": "X9kIr1uRopx_",
        "colab_type": "code",
        "outputId": "a75630d8-1175-42e8-f7f9-c9eb41baf8e2",
        "colab": {
          "base_uri": "https://localhost:8080/",
          "height": 248
        }
      },
      "source": [
        "val_data[1]"
      ],
      "execution_count": 0,
      "outputs": [
        {
          "output_type": "execute_result",
          "data": {
            "text/plain": [
              "(tensor([    0,  9405,    10, 22406,  1949, 23283, 36474, 11257,   795,  5516,\n",
              "          1584,  1388,  1677,   702,     2,     1,     1,     1,     1,     1,\n",
              "             1,     1,     1,     1,     1,     1,     1,     1,     1,     1,\n",
              "             1,     1,     1,     1,     1,     1,     1,     1,     1,     1,\n",
              "             1,     1,     1,     1,     1,     1,     1,     1,     1,     1,\n",
              "             1,     1,     1,     1,     1,     1,     1,     1,     1,     1]),\n",
              " tensor([1., 1., 1., 1., 1., 1., 1., 1., 1., 1., 1., 1., 1., 1., 1., 0., 0., 0.,\n",
              "         0., 0., 0., 0., 0., 0., 0., 0., 0., 0., 0., 0., 0., 0., 0., 0., 0., 0.,\n",
              "         0., 0., 0., 0., 0., 0., 0., 0., 0., 0., 0., 0., 0., 0., 0., 0., 0., 0.,\n",
              "         0., 0., 0., 0., 0., 0.]),\n",
              " tensor([4, 2, 2, 2, 6, 6, 0, 1, 1, 2, 2, 6, 2, 2, 5, 3, 3, 3, 3, 3, 3, 3, 3, 3,\n",
              "         3, 3, 3, 3, 3, 3, 3, 3, 3, 3, 3, 3, 3, 3, 3, 3, 3, 3, 3, 3, 3, 3, 3, 3,\n",
              "         3, 3, 3, 3, 3, 3, 3, 3, 3, 3, 3, 3]))"
            ]
          },
          "metadata": {
            "tags": []
          },
          "execution_count": 72
        }
      ]
    },
    {
      "cell_type": "markdown",
      "metadata": {
        "id": "PRTVmBA8ydlO",
        "colab_type": "text"
      },
      "source": [
        "#Feature extractor"
      ]
    },
    {
      "cell_type": "markdown",
      "metadata": {
        "id": "MqIBBDftqU5c",
        "colab_type": "text"
      },
      "source": [
        "***Load pretrained model PhoBert(base)***"
      ]
    },
    {
      "cell_type": "code",
      "metadata": {
        "id": "z8IJ_AzPP3kN",
        "colab_type": "code",
        "colab": {}
      },
      "source": [
        "from transformers import *\n",
        "from keras.layers import Bidirectional, LSTM, Dense,TimeDistributed, Dropout\n",
        "from keras.models import Model, Input\n",
        "from keras.utils import to_categorical\n",
        "\n",
        "class RobertaForFeatureExtraction(BertPreTrainedModel):\n",
        "   config_class = RobertaConfig\n",
        "   pretrained_model_archive_map = ROBERTA_PRETRAINED_MODEL_ARCHIVE_MAP\n",
        "   base_model_prefix = \"roberta\"\n",
        "   def __init__(self, config):\n",
        "       super().__init__(config)\n",
        "       self.roberta = RobertaModel(config)\n",
        "\n",
        "       self.init_weights()\n",
        "\n",
        "   def forward(self, input_ids, attention_mask=None, token_type_ids=None, position_ids=None, head_mask=None,\n",
        "                start_positions=None, end_positions=None):\n",
        "\n",
        "       outputs = self.roberta(input_ids,\n",
        "                            attention_mask=attention_mask,\n",
        "                            token_type_ids=token_type_ids,\n",
        "                            position_ids=position_ids,\n",
        "                            head_mask=head_mask)\n",
        "       \n",
        "       output = torch.cat((outputs[2][-1],outputs[2][-2], outputs[2][-3], outputs[2][-4]), dim=-1)\n",
        "       \n",
        "       return output"
      ],
      "execution_count": 0,
      "outputs": []
    },
    {
      "cell_type": "code",
      "metadata": {
        "id": "6vFvMGKsqFrW",
        "colab_type": "code",
        "colab": {}
      },
      "source": [
        "config = RobertaConfig.from_pretrained(\n",
        "    \"/content/drive/My Drive/pre_model/phobert/PhoBERT_base_transformers/config.json\",\n",
        "    output_hidden_states=True\n",
        ")"
      ],
      "execution_count": 0,
      "outputs": []
    },
    {
      "cell_type": "code",
      "metadata": {
        "id": "R3NclR75qcj0",
        "colab_type": "code",
        "colab": {}
      },
      "source": [
        "model = RobertaForFeatureExtraction.from_pretrained(\n",
        "    \"/content/drive/My Drive/pre_model/phobert/PhoBERT_base_transformers/model.bin\",\n",
        "    config=config\n",
        ")"
      ],
      "execution_count": 0,
      "outputs": []
    },
    {
      "cell_type": "code",
      "metadata": {
        "id": "3nFbgfC3qpRE",
        "colab_type": "code",
        "outputId": "2b82e645-bce9-4c1f-a99b-d65b4609770a",
        "colab": {
          "base_uri": "https://localhost:8080/",
          "height": 1000
        }
      },
      "source": [
        "# pass model parameter to GPU\n",
        "model.cuda()\n",
        "model.eval()"
      ],
      "execution_count": 0,
      "outputs": [
        {
          "output_type": "execute_result",
          "data": {
            "text/plain": [
              "RobertaForFeatureExtraction(\n",
              "  (roberta): RobertaModel(\n",
              "    (embeddings): RobertaEmbeddings(\n",
              "      (word_embeddings): Embedding(64001, 768, padding_idx=1)\n",
              "      (position_embeddings): Embedding(258, 768, padding_idx=1)\n",
              "      (token_type_embeddings): Embedding(1, 768)\n",
              "      (LayerNorm): LayerNorm((768,), eps=1e-05, elementwise_affine=True)\n",
              "      (dropout): Dropout(p=0.1, inplace=False)\n",
              "    )\n",
              "    (encoder): BertEncoder(\n",
              "      (layer): ModuleList(\n",
              "        (0): BertLayer(\n",
              "          (attention): BertAttention(\n",
              "            (self): BertSelfAttention(\n",
              "              (query): Linear(in_features=768, out_features=768, bias=True)\n",
              "              (key): Linear(in_features=768, out_features=768, bias=True)\n",
              "              (value): Linear(in_features=768, out_features=768, bias=True)\n",
              "              (dropout): Dropout(p=0.1, inplace=False)\n",
              "            )\n",
              "            (output): BertSelfOutput(\n",
              "              (dense): Linear(in_features=768, out_features=768, bias=True)\n",
              "              (LayerNorm): LayerNorm((768,), eps=1e-05, elementwise_affine=True)\n",
              "              (dropout): Dropout(p=0.1, inplace=False)\n",
              "            )\n",
              "          )\n",
              "          (intermediate): BertIntermediate(\n",
              "            (dense): Linear(in_features=768, out_features=3072, bias=True)\n",
              "          )\n",
              "          (output): BertOutput(\n",
              "            (dense): Linear(in_features=3072, out_features=768, bias=True)\n",
              "            (LayerNorm): LayerNorm((768,), eps=1e-05, elementwise_affine=True)\n",
              "            (dropout): Dropout(p=0.1, inplace=False)\n",
              "          )\n",
              "        )\n",
              "        (1): BertLayer(\n",
              "          (attention): BertAttention(\n",
              "            (self): BertSelfAttention(\n",
              "              (query): Linear(in_features=768, out_features=768, bias=True)\n",
              "              (key): Linear(in_features=768, out_features=768, bias=True)\n",
              "              (value): Linear(in_features=768, out_features=768, bias=True)\n",
              "              (dropout): Dropout(p=0.1, inplace=False)\n",
              "            )\n",
              "            (output): BertSelfOutput(\n",
              "              (dense): Linear(in_features=768, out_features=768, bias=True)\n",
              "              (LayerNorm): LayerNorm((768,), eps=1e-05, elementwise_affine=True)\n",
              "              (dropout): Dropout(p=0.1, inplace=False)\n",
              "            )\n",
              "          )\n",
              "          (intermediate): BertIntermediate(\n",
              "            (dense): Linear(in_features=768, out_features=3072, bias=True)\n",
              "          )\n",
              "          (output): BertOutput(\n",
              "            (dense): Linear(in_features=3072, out_features=768, bias=True)\n",
              "            (LayerNorm): LayerNorm((768,), eps=1e-05, elementwise_affine=True)\n",
              "            (dropout): Dropout(p=0.1, inplace=False)\n",
              "          )\n",
              "        )\n",
              "        (2): BertLayer(\n",
              "          (attention): BertAttention(\n",
              "            (self): BertSelfAttention(\n",
              "              (query): Linear(in_features=768, out_features=768, bias=True)\n",
              "              (key): Linear(in_features=768, out_features=768, bias=True)\n",
              "              (value): Linear(in_features=768, out_features=768, bias=True)\n",
              "              (dropout): Dropout(p=0.1, inplace=False)\n",
              "            )\n",
              "            (output): BertSelfOutput(\n",
              "              (dense): Linear(in_features=768, out_features=768, bias=True)\n",
              "              (LayerNorm): LayerNorm((768,), eps=1e-05, elementwise_affine=True)\n",
              "              (dropout): Dropout(p=0.1, inplace=False)\n",
              "            )\n",
              "          )\n",
              "          (intermediate): BertIntermediate(\n",
              "            (dense): Linear(in_features=768, out_features=3072, bias=True)\n",
              "          )\n",
              "          (output): BertOutput(\n",
              "            (dense): Linear(in_features=3072, out_features=768, bias=True)\n",
              "            (LayerNorm): LayerNorm((768,), eps=1e-05, elementwise_affine=True)\n",
              "            (dropout): Dropout(p=0.1, inplace=False)\n",
              "          )\n",
              "        )\n",
              "        (3): BertLayer(\n",
              "          (attention): BertAttention(\n",
              "            (self): BertSelfAttention(\n",
              "              (query): Linear(in_features=768, out_features=768, bias=True)\n",
              "              (key): Linear(in_features=768, out_features=768, bias=True)\n",
              "              (value): Linear(in_features=768, out_features=768, bias=True)\n",
              "              (dropout): Dropout(p=0.1, inplace=False)\n",
              "            )\n",
              "            (output): BertSelfOutput(\n",
              "              (dense): Linear(in_features=768, out_features=768, bias=True)\n",
              "              (LayerNorm): LayerNorm((768,), eps=1e-05, elementwise_affine=True)\n",
              "              (dropout): Dropout(p=0.1, inplace=False)\n",
              "            )\n",
              "          )\n",
              "          (intermediate): BertIntermediate(\n",
              "            (dense): Linear(in_features=768, out_features=3072, bias=True)\n",
              "          )\n",
              "          (output): BertOutput(\n",
              "            (dense): Linear(in_features=3072, out_features=768, bias=True)\n",
              "            (LayerNorm): LayerNorm((768,), eps=1e-05, elementwise_affine=True)\n",
              "            (dropout): Dropout(p=0.1, inplace=False)\n",
              "          )\n",
              "        )\n",
              "        (4): BertLayer(\n",
              "          (attention): BertAttention(\n",
              "            (self): BertSelfAttention(\n",
              "              (query): Linear(in_features=768, out_features=768, bias=True)\n",
              "              (key): Linear(in_features=768, out_features=768, bias=True)\n",
              "              (value): Linear(in_features=768, out_features=768, bias=True)\n",
              "              (dropout): Dropout(p=0.1, inplace=False)\n",
              "            )\n",
              "            (output): BertSelfOutput(\n",
              "              (dense): Linear(in_features=768, out_features=768, bias=True)\n",
              "              (LayerNorm): LayerNorm((768,), eps=1e-05, elementwise_affine=True)\n",
              "              (dropout): Dropout(p=0.1, inplace=False)\n",
              "            )\n",
              "          )\n",
              "          (intermediate): BertIntermediate(\n",
              "            (dense): Linear(in_features=768, out_features=3072, bias=True)\n",
              "          )\n",
              "          (output): BertOutput(\n",
              "            (dense): Linear(in_features=3072, out_features=768, bias=True)\n",
              "            (LayerNorm): LayerNorm((768,), eps=1e-05, elementwise_affine=True)\n",
              "            (dropout): Dropout(p=0.1, inplace=False)\n",
              "          )\n",
              "        )\n",
              "        (5): BertLayer(\n",
              "          (attention): BertAttention(\n",
              "            (self): BertSelfAttention(\n",
              "              (query): Linear(in_features=768, out_features=768, bias=True)\n",
              "              (key): Linear(in_features=768, out_features=768, bias=True)\n",
              "              (value): Linear(in_features=768, out_features=768, bias=True)\n",
              "              (dropout): Dropout(p=0.1, inplace=False)\n",
              "            )\n",
              "            (output): BertSelfOutput(\n",
              "              (dense): Linear(in_features=768, out_features=768, bias=True)\n",
              "              (LayerNorm): LayerNorm((768,), eps=1e-05, elementwise_affine=True)\n",
              "              (dropout): Dropout(p=0.1, inplace=False)\n",
              "            )\n",
              "          )\n",
              "          (intermediate): BertIntermediate(\n",
              "            (dense): Linear(in_features=768, out_features=3072, bias=True)\n",
              "          )\n",
              "          (output): BertOutput(\n",
              "            (dense): Linear(in_features=3072, out_features=768, bias=True)\n",
              "            (LayerNorm): LayerNorm((768,), eps=1e-05, elementwise_affine=True)\n",
              "            (dropout): Dropout(p=0.1, inplace=False)\n",
              "          )\n",
              "        )\n",
              "        (6): BertLayer(\n",
              "          (attention): BertAttention(\n",
              "            (self): BertSelfAttention(\n",
              "              (query): Linear(in_features=768, out_features=768, bias=True)\n",
              "              (key): Linear(in_features=768, out_features=768, bias=True)\n",
              "              (value): Linear(in_features=768, out_features=768, bias=True)\n",
              "              (dropout): Dropout(p=0.1, inplace=False)\n",
              "            )\n",
              "            (output): BertSelfOutput(\n",
              "              (dense): Linear(in_features=768, out_features=768, bias=True)\n",
              "              (LayerNorm): LayerNorm((768,), eps=1e-05, elementwise_affine=True)\n",
              "              (dropout): Dropout(p=0.1, inplace=False)\n",
              "            )\n",
              "          )\n",
              "          (intermediate): BertIntermediate(\n",
              "            (dense): Linear(in_features=768, out_features=3072, bias=True)\n",
              "          )\n",
              "          (output): BertOutput(\n",
              "            (dense): Linear(in_features=3072, out_features=768, bias=True)\n",
              "            (LayerNorm): LayerNorm((768,), eps=1e-05, elementwise_affine=True)\n",
              "            (dropout): Dropout(p=0.1, inplace=False)\n",
              "          )\n",
              "        )\n",
              "        (7): BertLayer(\n",
              "          (attention): BertAttention(\n",
              "            (self): BertSelfAttention(\n",
              "              (query): Linear(in_features=768, out_features=768, bias=True)\n",
              "              (key): Linear(in_features=768, out_features=768, bias=True)\n",
              "              (value): Linear(in_features=768, out_features=768, bias=True)\n",
              "              (dropout): Dropout(p=0.1, inplace=False)\n",
              "            )\n",
              "            (output): BertSelfOutput(\n",
              "              (dense): Linear(in_features=768, out_features=768, bias=True)\n",
              "              (LayerNorm): LayerNorm((768,), eps=1e-05, elementwise_affine=True)\n",
              "              (dropout): Dropout(p=0.1, inplace=False)\n",
              "            )\n",
              "          )\n",
              "          (intermediate): BertIntermediate(\n",
              "            (dense): Linear(in_features=768, out_features=3072, bias=True)\n",
              "          )\n",
              "          (output): BertOutput(\n",
              "            (dense): Linear(in_features=3072, out_features=768, bias=True)\n",
              "            (LayerNorm): LayerNorm((768,), eps=1e-05, elementwise_affine=True)\n",
              "            (dropout): Dropout(p=0.1, inplace=False)\n",
              "          )\n",
              "        )\n",
              "        (8): BertLayer(\n",
              "          (attention): BertAttention(\n",
              "            (self): BertSelfAttention(\n",
              "              (query): Linear(in_features=768, out_features=768, bias=True)\n",
              "              (key): Linear(in_features=768, out_features=768, bias=True)\n",
              "              (value): Linear(in_features=768, out_features=768, bias=True)\n",
              "              (dropout): Dropout(p=0.1, inplace=False)\n",
              "            )\n",
              "            (output): BertSelfOutput(\n",
              "              (dense): Linear(in_features=768, out_features=768, bias=True)\n",
              "              (LayerNorm): LayerNorm((768,), eps=1e-05, elementwise_affine=True)\n",
              "              (dropout): Dropout(p=0.1, inplace=False)\n",
              "            )\n",
              "          )\n",
              "          (intermediate): BertIntermediate(\n",
              "            (dense): Linear(in_features=768, out_features=3072, bias=True)\n",
              "          )\n",
              "          (output): BertOutput(\n",
              "            (dense): Linear(in_features=3072, out_features=768, bias=True)\n",
              "            (LayerNorm): LayerNorm((768,), eps=1e-05, elementwise_affine=True)\n",
              "            (dropout): Dropout(p=0.1, inplace=False)\n",
              "          )\n",
              "        )\n",
              "        (9): BertLayer(\n",
              "          (attention): BertAttention(\n",
              "            (self): BertSelfAttention(\n",
              "              (query): Linear(in_features=768, out_features=768, bias=True)\n",
              "              (key): Linear(in_features=768, out_features=768, bias=True)\n",
              "              (value): Linear(in_features=768, out_features=768, bias=True)\n",
              "              (dropout): Dropout(p=0.1, inplace=False)\n",
              "            )\n",
              "            (output): BertSelfOutput(\n",
              "              (dense): Linear(in_features=768, out_features=768, bias=True)\n",
              "              (LayerNorm): LayerNorm((768,), eps=1e-05, elementwise_affine=True)\n",
              "              (dropout): Dropout(p=0.1, inplace=False)\n",
              "            )\n",
              "          )\n",
              "          (intermediate): BertIntermediate(\n",
              "            (dense): Linear(in_features=768, out_features=3072, bias=True)\n",
              "          )\n",
              "          (output): BertOutput(\n",
              "            (dense): Linear(in_features=3072, out_features=768, bias=True)\n",
              "            (LayerNorm): LayerNorm((768,), eps=1e-05, elementwise_affine=True)\n",
              "            (dropout): Dropout(p=0.1, inplace=False)\n",
              "          )\n",
              "        )\n",
              "        (10): BertLayer(\n",
              "          (attention): BertAttention(\n",
              "            (self): BertSelfAttention(\n",
              "              (query): Linear(in_features=768, out_features=768, bias=True)\n",
              "              (key): Linear(in_features=768, out_features=768, bias=True)\n",
              "              (value): Linear(in_features=768, out_features=768, bias=True)\n",
              "              (dropout): Dropout(p=0.1, inplace=False)\n",
              "            )\n",
              "            (output): BertSelfOutput(\n",
              "              (dense): Linear(in_features=768, out_features=768, bias=True)\n",
              "              (LayerNorm): LayerNorm((768,), eps=1e-05, elementwise_affine=True)\n",
              "              (dropout): Dropout(p=0.1, inplace=False)\n",
              "            )\n",
              "          )\n",
              "          (intermediate): BertIntermediate(\n",
              "            (dense): Linear(in_features=768, out_features=3072, bias=True)\n",
              "          )\n",
              "          (output): BertOutput(\n",
              "            (dense): Linear(in_features=3072, out_features=768, bias=True)\n",
              "            (LayerNorm): LayerNorm((768,), eps=1e-05, elementwise_affine=True)\n",
              "            (dropout): Dropout(p=0.1, inplace=False)\n",
              "          )\n",
              "        )\n",
              "        (11): BertLayer(\n",
              "          (attention): BertAttention(\n",
              "            (self): BertSelfAttention(\n",
              "              (query): Linear(in_features=768, out_features=768, bias=True)\n",
              "              (key): Linear(in_features=768, out_features=768, bias=True)\n",
              "              (value): Linear(in_features=768, out_features=768, bias=True)\n",
              "              (dropout): Dropout(p=0.1, inplace=False)\n",
              "            )\n",
              "            (output): BertSelfOutput(\n",
              "              (dense): Linear(in_features=768, out_features=768, bias=True)\n",
              "              (LayerNorm): LayerNorm((768,), eps=1e-05, elementwise_affine=True)\n",
              "              (dropout): Dropout(p=0.1, inplace=False)\n",
              "            )\n",
              "          )\n",
              "          (intermediate): BertIntermediate(\n",
              "            (dense): Linear(in_features=768, out_features=3072, bias=True)\n",
              "          )\n",
              "          (output): BertOutput(\n",
              "            (dense): Linear(in_features=3072, out_features=768, bias=True)\n",
              "            (LayerNorm): LayerNorm((768,), eps=1e-05, elementwise_affine=True)\n",
              "            (dropout): Dropout(p=0.1, inplace=False)\n",
              "          )\n",
              "        )\n",
              "      )\n",
              "    )\n",
              "    (pooler): BertPooler(\n",
              "      (dense): Linear(in_features=768, out_features=768, bias=True)\n",
              "      (activation): Tanh()\n",
              "    )\n",
              "  )\n",
              ")"
            ]
          },
          "metadata": {
            "tags": []
          },
          "execution_count": 112
        }
      ]
    },
    {
      "cell_type": "code",
      "metadata": {
        "id": "fLVhe8PHLcGi",
        "colab_type": "code",
        "colab": {}
      },
      "source": [
        "def extract_features(dataloader):\n",
        "  datas, labels = [], []\n",
        "  for batch in dataloader:\n",
        "    batch = tuple(t.to(device) for t in batch)\n",
        "    X, mask, y = batch\n",
        "    with torch.no_grad():\n",
        "      features = model(X, mask)\n",
        "    datas.extend(features.detach().cpu().numpy())\n",
        "    labels.extend(y.to('cpu').numpy())\n",
        "  return datas, labels "
      ],
      "execution_count": 0,
      "outputs": []
    },
    {
      "cell_type": "code",
      "metadata": {
        "id": "LicSS3vhXkfX",
        "colab_type": "code",
        "colab": {}
      },
      "source": [
        "X_train, y_train = extract_features(train_dataloader)\n",
        "X_val, y_val = extract_features(val_dataloader)\n",
        "X_test, y_test = extract_features(test_dataloader)"
      ],
      "execution_count": 0,
      "outputs": []
    },
    {
      "cell_type": "code",
      "metadata": {
        "id": "Gehs8H4BlVJz",
        "colab_type": "code",
        "colab": {}
      },
      "source": [
        "X_train = np.array(X_train)\n",
        "y_train = [to_categorical(sent, num_classes=len(label2idx)) for sent in y_train]\n",
        "y_train = np.array(y_train)"
      ],
      "execution_count": 0,
      "outputs": []
    },
    {
      "cell_type": "code",
      "metadata": {
        "id": "SCBgNTPoEFcs",
        "colab_type": "code",
        "colab": {}
      },
      "source": [
        "X_val = np.array(X_val)\n",
        "y_val = [to_categorical(sent, num_classes=len(label2idx)) for sent in y_val]\n",
        "y_val = np.array(y_val)"
      ],
      "execution_count": 0,
      "outputs": []
    },
    {
      "cell_type": "code",
      "metadata": {
        "id": "2FhUOQHUEsY0",
        "colab_type": "code",
        "colab": {}
      },
      "source": [
        "X_test = np.array(X_test)\n",
        "y_test = [to_categorical(sent, num_classes=len(label2idx)) for sent in y_test]\n",
        "y_test = np.array(y_test)"
      ],
      "execution_count": 0,
      "outputs": []
    },
    {
      "cell_type": "markdown",
      "metadata": {
        "id": "jMlEkVv_qP3N",
        "colab_type": "text"
      },
      "source": [
        "#Model"
      ]
    },
    {
      "cell_type": "code",
      "metadata": {
        "id": "XLUMRa32DTem",
        "colab_type": "code",
        "colab": {}
      },
      "source": [
        "from keras import backend as K\n",
        "\n",
        "def recall(y_true, y_pred):\n",
        "    true_positives = K.sum(K.round(K.clip(y_true * y_pred, 0, 1)))\n",
        "    possible_positives = K.sum(K.round(K.clip(y_true, 0, 1)))\n",
        "    recall = true_positives / (possible_positives + K.epsilon())\n",
        "    return recall\n",
        "\n",
        "def precision(y_true, y_pred):\n",
        "    true_positives = K.sum(K.round(K.clip(y_true * y_pred, 0, 1)))\n",
        "    predicted_positives = K.sum(K.round(K.clip(y_pred, 0, 1)))\n",
        "    precision = true_positives / (predicted_positives + K.epsilon())\n",
        "    return precision\n",
        "\n",
        "def f1_score(y_true, y_pred):\n",
        "    p = precision(y_true, y_pred)\n",
        "    r = recall(y_true, y_pred)\n",
        "    return 2*((p*r)/(p+r+K.epsilon()))"
      ],
      "execution_count": 0,
      "outputs": []
    },
    {
      "cell_type": "code",
      "metadata": {
        "id": "MCdwRogMYpRn",
        "colab_type": "code",
        "outputId": "926c3c73-c213-482c-a213-b4920a4a23fd",
        "colab": {
          "base_uri": "https://localhost:8080/",
          "height": 301
        }
      },
      "source": [
        "model_in = Input(shape=X_train[0].shape)\n",
        "model_out = LSTM(100, return_sequences=True)(model_in)\n",
        "model_out = Dropout(0.2)(model_out)\n",
        "model_out = Dense(len(label2idx), activation='softmax')(model_out)\n",
        "model = Model(model_in, model_out)\n",
        "model.compile(loss='categorical_crossentropy', optimizer='adam', metrics=[f1_score])\n",
        "model.summary()"
      ],
      "execution_count": 0,
      "outputs": [
        {
          "output_type": "stream",
          "text": [
            "Model: \"model_6\"\n",
            "_________________________________________________________________\n",
            "Layer (type)                 Output Shape              Param #   \n",
            "=================================================================\n",
            "input_6 (InputLayer)         (None, 60, 3072)          0         \n",
            "_________________________________________________________________\n",
            "lstm_6 (LSTM)                (None, 60, 100)           1269200   \n",
            "_________________________________________________________________\n",
            "dropout_6 (Dropout)          (None, 60, 100)           0         \n",
            "_________________________________________________________________\n",
            "dense_6 (Dense)              (None, 60, 7)             707       \n",
            "=================================================================\n",
            "Total params: 1,269,907\n",
            "Trainable params: 1,269,907\n",
            "Non-trainable params: 0\n",
            "_________________________________________________________________\n"
          ],
          "name": "stdout"
        }
      ]
    },
    {
      "cell_type": "markdown",
      "metadata": {
        "id": "iKGguI5MwRQX",
        "colab_type": "text"
      },
      "source": [
        "#Train"
      ]
    },
    {
      "cell_type": "code",
      "metadata": {
        "id": "tRScI0HTk-cx",
        "colab_type": "code",
        "outputId": "02b08d5c-e7a4-443f-dcef-563cde7ad22e",
        "colab": {
          "base_uri": "https://localhost:8080/",
          "height": 408
        }
      },
      "source": [
        "model.fit(X_train, y_train, epochs=10, batch_size=16, validation_data=(X_val, y_val))"
      ],
      "execution_count": 0,
      "outputs": [
        {
          "output_type": "stream",
          "text": [
            "Train on 2073 samples, validate on 519 samples\n",
            "Epoch 1/10\n",
            "2073/2073 [==============================] - 16s 8ms/step - loss: 0.1307 - f1_score: 0.9579 - val_loss: 0.0570 - val_f1_score: 0.9803\n",
            "Epoch 2/10\n",
            "2073/2073 [==============================] - 15s 7ms/step - loss: 0.0424 - f1_score: 0.9856 - val_loss: 0.0447 - val_f1_score: 0.9844\n",
            "Epoch 3/10\n",
            "2073/2073 [==============================] - 15s 7ms/step - loss: 0.0323 - f1_score: 0.9888 - val_loss: 0.0412 - val_f1_score: 0.9852\n",
            "Epoch 4/10\n",
            "2073/2073 [==============================] - 15s 7ms/step - loss: 0.0254 - f1_score: 0.9910 - val_loss: 0.0405 - val_f1_score: 0.9860\n",
            "Epoch 5/10\n",
            "2073/2073 [==============================] - 15s 7ms/step - loss: 0.0199 - f1_score: 0.9930 - val_loss: 0.0397 - val_f1_score: 0.9867\n",
            "Epoch 6/10\n",
            "2073/2073 [==============================] - 15s 7ms/step - loss: 0.0154 - f1_score: 0.9947 - val_loss: 0.0412 - val_f1_score: 0.9859\n",
            "Epoch 7/10\n",
            "2073/2073 [==============================] - 15s 7ms/step - loss: 0.0112 - f1_score: 0.9965 - val_loss: 0.0452 - val_f1_score: 0.9863\n",
            "Epoch 8/10\n",
            "2073/2073 [==============================] - 15s 7ms/step - loss: 0.0084 - f1_score: 0.9976 - val_loss: 0.0454 - val_f1_score: 0.9868\n",
            "Epoch 9/10\n",
            "2073/2073 [==============================] - 15s 7ms/step - loss: 0.0062 - f1_score: 0.9984 - val_loss: 0.0504 - val_f1_score: 0.9866\n",
            "Epoch 10/10\n",
            "2073/2073 [==============================] - 15s 7ms/step - loss: 0.0043 - f1_score: 0.9991 - val_loss: 0.0496 - val_f1_score: 0.9865\n"
          ],
          "name": "stdout"
        },
        {
          "output_type": "execute_result",
          "data": {
            "text/plain": [
              "<keras.callbacks.callbacks.History at 0x7fc28f95e860>"
            ]
          },
          "metadata": {
            "tags": []
          },
          "execution_count": 83
        }
      ]
    },
    {
      "cell_type": "code",
      "metadata": {
        "id": "Yrx-5c5seEPO",
        "colab_type": "code",
        "outputId": "25713036-7c40-4ea8-a7a4-7aff6e025fa6",
        "colab": {
          "base_uri": "https://localhost:8080/",
          "height": 52
        }
      },
      "source": [
        "model.evaluate(X_test, y_test)"
      ],
      "execution_count": 0,
      "outputs": [
        {
          "output_type": "stream",
          "text": [
            "360/360 [==============================] - 0s 849us/step\n"
          ],
          "name": "stdout"
        },
        {
          "output_type": "execute_result",
          "data": {
            "text/plain": [
              "[0.029520760311020744, 0.9902063012123108]"
            ]
          },
          "metadata": {
            "tags": []
          },
          "execution_count": 84
        }
      ]
    },
    {
      "cell_type": "code",
      "metadata": {
        "id": "fTQGtV0-dlqn",
        "colab_type": "code",
        "colab": {}
      },
      "source": [
        "predicts =  model.predict(X_test)\n",
        "predicts = np.argmax(predicts, axis=-1)"
      ],
      "execution_count": 0,
      "outputs": []
    },
    {
      "cell_type": "code",
      "metadata": {
        "id": "37xQu6cYHmZ3",
        "colab_type": "code",
        "colab": {}
      },
      "source": [
        "predict_labels"
      ],
      "execution_count": 0,
      "outputs": []
    },
    {
      "cell_type": "code",
      "metadata": {
        "id": "-__K7nlWHDWJ",
        "colab_type": "code",
        "colab": {}
      },
      "source": [
        "predict_labels = [labels_value[indx] for true in predicts\n",
        "                                      for indx in true if labels_value[indx] != 'PAD']"
      ],
      "execution_count": 0,
      "outputs": []
    },
    {
      "cell_type": "markdown",
      "metadata": {
        "id": "hhXBySlHfyJm",
        "colab_type": "text"
      },
      "source": [
        "#Evaluate"
      ]
    },
    {
      "cell_type": "code",
      "metadata": {
        "id": "Jhqf6-jGj4LF",
        "colab_type": "code",
        "colab": {}
      },
      "source": [
        "val_ids_sent = [data[0].numpy() for data in test_data]"
      ],
      "execution_count": 0,
      "outputs": []
    },
    {
      "cell_type": "code",
      "metadata": {
        "id": "JmNPQRujf2OZ",
        "colab_type": "code",
        "colab": {}
      },
      "source": [
        "val_subwords = []\n",
        "for sent in val_ids_sent:\n",
        "  val_subwords.extend(('<s> '+ vocab.string(sent) + ' </s>').replace('<pad>', '').split())"
      ],
      "execution_count": 0,
      "outputs": []
    },
    {
      "cell_type": "code",
      "metadata": {
        "id": "phk8B67L6rPg",
        "colab_type": "code",
        "outputId": "d551e26a-7903-4229-8e03-547404d6792e",
        "colab": {
          "base_uri": "https://localhost:8080/",
          "height": 1000
        }
      },
      "source": [
        "list(zip(predict_labels, val_subwords))"
      ],
      "execution_count": 0,
      "outputs": [
        {
          "output_type": "execute_result",
          "data": {
            "text/plain": [
              "[('[CLS]', '<s>'),\n",
              " ('O', 'Shop'),\n",
              " ('O', 'tư_vấn'),\n",
              " ('O', 'giúp'),\n",
              " ('O', ','),\n",
              " ('B-pr', 'note'),\n",
              " ('I-pr', '10'),\n",
              " ('I-pr', '+'),\n",
              " ('O', 'của'),\n",
              " ('O', 'mình'),\n",
              " ('O', 'thời_gian'),\n",
              " ('O', 'trên'),\n",
              " ('X', 'đ@@'),\n",
              " ('O', 't'),\n",
              " ('O', 'luôn'),\n",
              " ('O', 'chậm'),\n",
              " ('O', 'hơn'),\n",
              " ('X', 'thời_gian@@'),\n",
              " ('X', '_th@@'),\n",
              " ('O', 'ực_tế'),\n",
              " ('X', '20@@'),\n",
              " ('O', 'p'),\n",
              " ('O', ','),\n",
              " ('O', 'chỉnh'),\n",
              " ('O', 'cách'),\n",
              " ('O', 'nào'),\n",
              " ('O', 'vậy'),\n",
              " ('O', 'ạ'),\n",
              " ('[SEP]', '</s>'),\n",
              " ('[CLS]', '<s>'),\n",
              " ('O', 'Hiện_tại'),\n",
              " ('O', 'là'),\n",
              " ('X', '13@@'),\n",
              " ('X', 'g@@'),\n",
              " ('O', '20'),\n",
              " ('O', 'nhưng'),\n",
              " ('X', 'đ@@'),\n",
              " ('O', 't'),\n",
              " ('O', 'mình'),\n",
              " ('O', 'mới'),\n",
              " ('O', 'hiển_thị'),\n",
              " ('X', '12@@'),\n",
              " ('X', 'h@@'),\n",
              " ('O', '56'),\n",
              " ('[SEP]', '</s>'),\n",
              " ('[CLS]', '<s>'),\n",
              " ('O', 'Trừ'),\n",
              " ('O', 'hết'),\n",
              " ('O', 'luôn'),\n",
              " ('O', 'còn'),\n",
              " ('O', 'khoảng'),\n",
              " ('O', 'bao'),\n",
              " ('X', 'nh@@'),\n",
              " ('O', 'iu'),\n",
              " ('[SEP]', '</s>'),\n",
              " ('[CLS]', '<s>'),\n",
              " ('O', 'T'),\n",
              " ('O', 'mới'),\n",
              " ('O', 'lấy'),\n",
              " ('B-pr', 'note'),\n",
              " ('I-pr', '10'),\n",
              " ('I-pr', '+'),\n",
              " ('I-pr', 'màu'),\n",
              " ('I-pr', 'blue'),\n",
              " ('O', 'ở'),\n",
              " ('O', 'shop'),\n",
              " ('O', 'hôm'),\n",
              " ('O', '29/1'),\n",
              " ('O', ','),\n",
              " ('O', 'giờ'),\n",
              " ('O', 'muốn'),\n",
              " ('O', 'đổi'),\n",
              " ('O', 'sang'),\n",
              " ('O', 'màu'),\n",
              " ('O', 'bạc'),\n",
              " ('O', 'đa'),\n",
              " ('O', 'sắc'),\n",
              " ('O', 'thì'),\n",
              " ('O', 'làm'),\n",
              " ('O', 'thế_nào'),\n",
              " ('O', 'shop'),\n",
              " ('[SEP]', '</s>'),\n",
              " ('[CLS]', '<s>'),\n",
              " ('B-pr', 'note'),\n",
              " ('I-pr', '10'),\n",
              " ('I-pr', '+'),\n",
              " ('O', 'có'),\n",
              " ('O', 'hàng'),\n",
              " ('O', 'ở'),\n",
              " ('O', '<unk>'),\n",
              " ('O', 'long'),\n",
              " ('O', 'k'),\n",
              " ('[SEP]', '</s>'),\n",
              " ('[CLS]', '<s>'),\n",
              " ('O', 'Còn'),\n",
              " ('O', 'hàng'),\n",
              " ('B-pr', 'note'),\n",
              " ('I-pr', '10'),\n",
              " ('I-pr', '+'),\n",
              " ('O', 'nữa'),\n",
              " ('O', 'k'),\n",
              " ('[SEP]', '</s>'),\n",
              " ('[CLS]', '<s>'),\n",
              " ('X', 'M@@'),\n",
              " ('O', 'ính'),\n",
              " ('O', 'định'),\n",
              " ('O', 'đổi'),\n",
              " ('B-pr', 'iphone'),\n",
              " ('I-pr', '7'),\n",
              " ('I-pr', 'plus'),\n",
              " ('X', '12@@'),\n",
              " ('X', '8@@'),\n",
              " ('I-pr', 'G'),\n",
              " ('O', 'lấy'),\n",
              " ('B-pr', 'Note'),\n",
              " ('I-pr', '10'),\n",
              " ('O', ','),\n",
              " ('O', 'như_vậy'),\n",
              " ('O', 'thì'),\n",
              " ('O', 'mình'),\n",
              " ('O', 'định_giá'),\n",
              " ('O', 'trên'),\n",
              " ('X', 'we@@'),\n",
              " ('O', 'd'),\n",
              " ('O', 'là'),\n",
              " ('X', '7,5'),\n",
              " ('O', 'tr'),\n",
              " ('O', '+'),\n",
              " ('X', 'g@@'),\n",
              " ('O', 'ỉm'),\n",
              " ('O', '3000'),\n",
              " ('O', 'cua'),\n",
              " ('X', 'gar@@'),\n",
              " ('X', 'a@@'),\n",
              " ('B-pr', 'xy'),\n",
              " ('O', 'nua'),\n",
              " ('O', 'phải'),\n",
              " ('O', 'k'),\n",
              " ('[SEP]', '</s>'),\n",
              " ('[CLS]', '<s>'),\n",
              " ('X', 'A@@'),\n",
              " ('O', 'd'),\n",
              " ('O', 'kiểm_tra'),\n",
              " ('O', 'giúp'),\n",
              " ('O', 'số'),\n",
              " ('B-pr', 'ime'),\n",
              " ('X', '35@@'),\n",
              " ('X', '15@@'),\n",
              " ('X', '9@@'),\n",
              " ('X', '11@@'),\n",
              " ('X', '10@@'),\n",
              " ('X', '5@@'),\n",
              " ('X', '90@@'),\n",
              " ('O', '273'),\n",
              " ('O', 'kích_hoạt'),\n",
              " ('O', 'bảo_hành'),\n",
              " ('O', 'o'),\n",
              " ('X', 'f@@'),\n",
              " ('O', 'pt'),\n",
              " ('O', 'shop'),\n",
              " ('O', 'chưa'),\n",
              " ('[SEP]', '</s>'),\n",
              " ('[CLS]', '<s>'),\n",
              " ('O', 'Cảm'),\n",
              " ('O', 'on'),\n",
              " ('[SEP]', '</s>'),\n",
              " ('[CLS]', '<s>'),\n",
              " ('X', 'Ca@@'),\n",
              " ('B-pr', 'ch'),\n",
              " ('X', 'x@@'),\n",
              " ('I-pr', 'ai'),\n",
              " ('X', 'sp@@'),\n",
              " ('I-pr', 'en'),\n",
              " ('O', 'nhu'),\n",
              " ('O', 'the'),\n",
              " ('O', 'nao'),\n",
              " ('O', 'vay'),\n",
              " ('[SEP]', '</s>'),\n",
              " ('[CLS]', '<s>'),\n",
              " ('O', 'M'),\n",
              " ('X', 'x@@'),\n",
              " ('O', 'ai'),\n",
              " ('O', 'roi'),\n",
              " ('O', 'ma'),\n",
              " ('O', 'ko'),\n",
              " ('X', 'du@@'),\n",
              " ('O', 'oc'),\n",
              " ('[SEP]', '</s>'),\n",
              " ('[CLS]', '<s>'),\n",
              " ('O', 'Chi'),\n",
              " ('[SEP]', '</s>'),\n",
              " ('[CLS]', '<s>'),\n",
              " ('X', 'A@@'),\n",
              " ('O', 'd'),\n",
              " ('X', 'ki@@'),\n",
              " ('O', 'em'),\n",
              " ('O', 'tra'),\n",
              " ('O', 'dùm'),\n",
              " ('O', 'em'),\n",
              " ('O', 'hop'),\n",
              " ('O', 'dong'),\n",
              " ('O', 'tra'),\n",
              " ('O', 'góp'),\n",
              " ('O', 'còn'),\n",
              " ('O', 'bao'),\n",
              " ('X', 'nhi@@'),\n",
              " ('O', 'eu'),\n",
              " ('O', 'thang'),\n",
              " ('X', 'd@@'),\n",
              " ('O', 'c'),\n",
              " ('O', 'ko'),\n",
              " ('[SEP]', '</s>'),\n",
              " ('[CLS]', '<s>'),\n",
              " ('O', 'So'),\n",
              " ('B-pr', 'hop'),\n",
              " ('I-pr', 'dong'),\n",
              " ('[SEP]', '</s>'),\n",
              " ('[CLS]', '<s>'),\n",
              " ('O', 'em'),\n",
              " ('O', 'xin'),\n",
              " ('O', 'huỷ'),\n",
              " ('O', 'đơn'),\n",
              " ('O', 'hàng'),\n",
              " ('X', '7@@'),\n",
              " ('X', '98@@'),\n",
              " ('X', '10@@'),\n",
              " ('B-pr', '94'),\n",
              " ('O', 'được'),\n",
              " ('O', 'không'),\n",
              " ('[SEP]', '</s>'),\n",
              " ('[CLS]', '<s>'),\n",
              " ('O', 'Mua'),\n",
              " ('O', 'máy'),\n",
              " ('O', 'cũ'),\n",
              " ('O', 'co'),\n",
              " ('X', 'd@@'),\n",
              " ('O', 'c'),\n",
              " ('O', 'trả_góp'),\n",
              " ('O', '0'),\n",
              " ('O', 'ko'),\n",
              " ('[SEP]', '</s>'),\n",
              " ('[CLS]', '<s>'),\n",
              " ('X', 'Gi@@'),\n",
              " ('O', 'am'),\n",
              " ('X', '3@@'),\n",
              " ('O', 'tr'),\n",
              " ('O', 'la'),\n",
              " ('O', 'con'),\n",
              " ('X', '23@@'),\n",
              " ('X', 'tr@@'),\n",
              " ('O', '990'),\n",
              " ('O', 'phai'),\n",
              " ('O', 'k'),\n",
              " ('[SEP]', '</s>'),\n",
              " ('[CLS]', '<s>'),\n",
              " ('B-pr', 'Note'),\n",
              " ('I-pr', '10'),\n",
              " ('I-pr', '+'),\n",
              " ('O', 'giam'),\n",
              " ('O', '9.5'),\n",
              " ('O', 'tr'),\n",
              " ('[SEP]', '</s>'),\n",
              " ('[CLS]', '<s>'),\n",
              " ('O', 'Vay'),\n",
              " ('O', 'co'),\n",
              " ('X', 'note@@'),\n",
              " ('B-pr', '8'),\n",
              " ('I-pr', 'len'),\n",
              " ('O', 'doi'),\n",
              " ('B-pr', 'note'),\n",
              " ('I-pr', '10'),\n",
              " ('I-pr', '+'),\n",
              " ('O', 'bu'),\n",
              " ('O', 'bao'),\n",
              " ('X', 'nh@@'),\n",
              " ('O', 'iu'),\n",
              " ('O', 'nua'),\n",
              " ('[SEP]', '</s>'),\n",
              " ('[CLS]', '<s>'),\n",
              " ('O', 'Bạn'),\n",
              " ('X', 'mu@@'),\n",
              " ('B-pr', 'on'),\n",
              " ('X', 's@@'),\n",
              " ('B-pr', 'ài'),\n",
              " ('O', 'j'),\n",
              " ('[SEP]', '</s>'),\n",
              " ('[CLS]', '<s>'),\n",
              " ('O', 'Hỏi'),\n",
              " ('X', 'r@@'),\n",
              " ('B-pr', 'ỏ'),\n",
              " ('O', 'hơn'),\n",
              " ('O', 'đi'),\n",
              " ('[SEP]', '</s>'),\n",
              " ('[CLS]', '<s>'),\n",
              " ('O', 'Chào'),\n",
              " ('O', 'shop'),\n",
              " ('O', 'e'),\n",
              " ('O', 'ở'),\n",
              " ('O', 'trên'),\n",
              " ('X', 'D@@'),\n",
              " ('X', 'ào_@@'),\n",
              " ('O', 'San'),\n",
              " ('O', 'ko'),\n",
              " ('X', 'b@@'),\n",
              " ('O', 't'),\n",
              " ('O', 'trên'),\n",
              " ('O', 'chỗ'),\n",
              " ('O', 'e'),\n",
              " ('O', 'có'),\n",
              " ('O', 'chi_nhánh'),\n",
              " ('O', 'ko'),\n",
              " ('[SEP]', '</s>'),\n",
              " ('[CLS]', '<s>'),\n",
              " ('O', 'Mình'),\n",
              " ('O', 'đổi'),\n",
              " ('O', 'từ'),\n",
              " ('X', 'sam@@'),\n",
              " ('B-pr', 'sung'),\n",
              " ('X', 'a@@'),\n",
              " ('I-pr', '8'),\n",
              " ('O', 'qua'),\n",
              " ('B-pr', 'not'),\n",
              " ('I-pr', '10'),\n",
              " ('I-pr', '+'),\n",
              " ('O', 'thì'),\n",
              " ('O', 'bù'),\n",
              " ('O', 'thêm'),\n",
              " ('O', 'nhiêu'),\n",
              " ('[SEP]', '</s>'),\n",
              " ('[CLS]', '<s>'),\n",
              " ('O', 'cho'),\n",
              " ('O', 'mình'),\n",
              " ('O', 'hỏi'),\n",
              " ('O', 'chương_trình'),\n",
              " ('O', 'thu'),\n",
              " ('O', 'cũ'),\n",
              " ('O', 'đổi_mới'),\n",
              " ('O', 'có'),\n",
              " ('O', 'áp_dụng'),\n",
              " ('O', 'cho'),\n",
              " ('O', 'hình_thức'),\n",
              " ('O', 'trả_góp'),\n",
              " ('O', 'k'),\n",
              " ('[SEP]', '</s>'),\n",
              " ('[CLS]', '<s>'),\n",
              " ('O', 'nếu'),\n",
              " ('O', 'em'),\n",
              " ('O', 'xài'),\n",
              " ('O', 'chương_trình'),\n",
              " ('O', 'thu'),\n",
              " ('O', 'củ'),\n",
              " ('O', 'đổi_mới'),\n",
              " ('O', '+'),\n",
              " ('O', 'trả_góp'),\n",
              " ('O', 'thì'),\n",
              " ('O', 'số'),\n",
              " ('O', 'tiền'),\n",
              " ('O', 'trả_góp'),\n",
              " ('O', 'tính'),\n",
              " ('O', 'từ'),\n",
              " ('O', 'tháng'),\n",
              " ('O', 'sau'),\n",
              " ('O', 'hay_là'),\n",
              " ('O', 'phải'),\n",
              " ('O', 'trả'),\n",
              " ('O', 'thêm'),\n",
              " ('O', '1'),\n",
              " ('O', 'khoản'),\n",
              " ('O', 'nữa'),\n",
              " ('O', 'mới'),\n",
              " ('O', 'được'),\n",
              " ('O', 'nhận'),\n",
              " ('O', 'máy'),\n",
              " ('[SEP]', '</s>'),\n",
              " ('[CLS]', '<s>'),\n",
              " ('O', 'Cho'),\n",
              " ('O', 'mình'),\n",
              " ('O', 'hỏi'),\n",
              " ('O', '</s>'),\n",
              " ('[CLS]', '<s>'),\n",
              " ('O', 'Mai'),\n",
              " ('O', 'tôi'),\n",
              " ('O', 'định'),\n",
              " ('O', 'qua'),\n",
              " ('O', 'mua'),\n",
              " ('B-pr', 'note'),\n",
              " ('I-pr', '10'),\n",
              " ('I-pr', '+'),\n",
              " ('[SEP]', '</s>'),\n",
              " ('[CLS]', '<s>'),\n",
              " ('O', 'Tôi'),\n",
              " ('O', 'có'),\n",
              " ('O', 'máy'),\n",
              " ('X', 's@@'),\n",
              " ('B-pr', '8'),\n",
              " ('I-pr', 'plus'),\n",
              " ('O', 'tham_gia'),\n",
              " ('O', 'thu'),\n",
              " ('O', 'cũ'),\n",
              " ('O', 'đổi_mới'),\n",
              " ('O', 'và'),\n",
              " ('O', 'quà'),\n",
              " ('O', 'tặng'),\n",
              " ('B-pr', 'Galaxy'),\n",
              " ('O', 'thì'),\n",
              " ('O', 'tôi'),\n",
              " ('O', 'có'),\n",
              " ('O', 'phải'),\n",
              " ('O', 'bù'),\n",
              " ('O', 'tầm'),\n",
              " ('O', 'bao'),\n",
              " ('X', 'nhi@@'),\n",
              " ('O', 'eu'),\n",
              " ('O', 'tiền'),\n",
              " ('O', 'nữa'),\n",
              " ('O', 'và'),\n",
              " ('O', 'có'),\n",
              " ('O', 'được'),\n",
              " ('O', 'tham_gia'),\n",
              " ('O', 'trả_góp'),\n",
              " ('O', 'nữa'),\n",
              " ('O', 'ko'),\n",
              " ('[SEP]', '</s>'),\n",
              " ('[CLS]', '<s>'),\n",
              " ('X', 'Ad@@'),\n",
              " ('O', 'min'),\n",
              " ('O', 'cho'),\n",
              " ('O', 'ho'),\n",
              " ('O', 'i'),\n",
              " ('O', 'pin'),\n",
              " ('O', 'cu'),\n",
              " ('O', 'a'),\n",
              " ('O', 'mi'),\n",
              " ('O', 'nh'),\n",
              " ('O', 'sao'),\n",
              " ('O', 'tu'),\n",
              " ('O', 't'),\n",
              " ('O', 'nhanh'),\n",
              " ('O', 'thê'),\n",
              " ('[SEP]', '</s>'),\n",
              " ('[CLS]', '<s>'),\n",
              " ('O', 'Mi'),\n",
              " ('O', 'nh'),\n",
              " ('O', 'đa'),\n",
              " ('X', 't@@'),\n",
              " ('O', 'ă'),\n",
              " ('O', 't'),\n",
              " ('O', 'hê'),\n",
              " ('O', 't'),\n",
              " ('O', 'ca'),\n",
              " ('O', 'c'),\n",
              " ('O', 'chê'),\n",
              " ('O', 'đô'),\n",
              " ('O', 'đê'),\n",
              " ('X', 'ti@@'),\n",
              " ('O', 'ê'),\n",
              " ('O', 't'),\n",
              " ('X', 'ki@@'),\n",
              " ('O', 'ê'),\n",
              " ('O', 'm'),\n",
              " ('O', 'pin'),\n",
              " ('O', 'rô'),\n",
              " ('O', 'i'),\n",
              " ('O', 'ma'),\n",
              " ('X', 'v@@'),\n",
              " ('O', 'â'),\n",
              " ('O', 'n'),\n",
              " ('O', 'tu'),\n",
              " ('O', 't'),\n",
              " ('O', 'nhanh'),\n",
              " ('O', 'hơn'),\n",
              " ('X', 'tr@@'),\n",
              " ('X', 'ư@@'),\n",
              " ('O', 'ơ'),\n",
              " ('O', 'c'),\n",
              " ('O', 'đây'),\n",
              " ('O', 'mi'),\n",
              " ('O', 'nh'),\n",
              " ('O', 'du'),\n",
              " ('O', 'ng'),\n",
              " ('O', 'con'),\n",
              " ('X', 'a@@'),\n",
              " ('I-pr', '9'),\n",
              " ('I-pr', '2018'),\n",
              " ('O', 'nhiêu'),\n",
              " ('[SEP]', '</s>'),\n",
              " ('[CLS]', '<s>'),\n",
              " ('X', 'Ad@@'),\n",
              " ('O', 'min'),\n",
              " ('O', 'cho'),\n",
              " ('O', 'e'),\n",
              " ('O', 'hỏi'),\n",
              " ('[SEP]', '</s>'),\n",
              " ('[CLS]', '<s>'),\n",
              " ('O', 'Vẫn'),\n",
              " ('O', 'còn'),\n",
              " ('O', 'chương_trình'),\n",
              " ('O', 'quà'),\n",
              " ('O', 'tặng'),\n",
              " ('X', 'g@@'),\n",
              " ('B-pr', 'alaxy'),\n",
              " ('O', 'phải'),\n",
              " ('O', 'không'),\n",
              " ('O', 'ạ'),\n",
              " ('[SEP]', '</s>'),\n",
              " ('[CLS]', '<s>'),\n",
              " ('O', 'cho'),\n",
              " ('O', 'em'),\n",
              " ('O', 'hỏi'),\n",
              " ('O', 'thu'),\n",
              " ('B-pr', 'củ'),\n",
              " ('I-pr', 'đổi_mới'),\n",
              " ('O', 'áp_dụng'),\n",
              " ('O', 'tới'),\n",
              " ('O', 'khi'),\n",
              " ('O', 'nào'),\n",
              " ('O', 'là'),\n",
              " ('O', 'hết'),\n",
              " ('[SEP]', '</s>'),\n",
              " ('[CLS]', '<s>'),\n",
              " ('O', 'Cho'),\n",
              " ('O', 'mình'),\n",
              " ('O', 'hỏi'),\n",
              " ('O', 'muốn'),\n",
              " ('O', 'đổi'),\n",
              " ('O', 'từ'),\n",
              " ('X', 'ip@@'),\n",
              " ('B-pr', '6s'),\n",
              " ('O', 'lên'),\n",
              " ('X', 'X@@'),\n",
              " ('I-pr', 'max'),\n",
              " ('O', 'bù'),\n",
              " ('[SEP]', '</s>'),\n",
              " ('[CLS]', '<s>'),\n",
              " ('B-pr', 'Samsung'),\n",
              " ('X', 'a@@'),\n",
              " ('I-pr', '8'),\n",
              " ('I-pr', 'star'),\n",
              " ('O', 'đổi'),\n",
              " ('O', 'qua'),\n",
              " ('B-pr', 'note'),\n",
              " ('I-pr', '10'),\n",
              " ('I-pr', '+'),\n",
              " ('O', 'bù'),\n",
              " ('O', 'bao_nhiêu'),\n",
              " ('[SEP]', '</s>'),\n",
              " ('[CLS]', '<s>'),\n",
              " ('O', 'Minh'),\n",
              " ('O', 'không'),\n",
              " ('X', 'chơi'),\n",
              " ('O', 'game'),\n",
              " ('[SEP]', '</s>'),\n",
              " ('[CLS]', '<s>'),\n",
              " ('B-pr', 'Samsung'),\n",
              " ('X', 's@@'),\n",
              " ('I-pr', '6'),\n",
              " ('I-pr', 'edge'),\n",
              " ('I-pr', 'plus'),\n",
              " ('O', 'đổi'),\n",
              " ('B-pr', 'note'),\n",
              " ('I-pr', '10'),\n",
              " ('I-pr', 'plus'),\n",
              " ('O', 'thì'),\n",
              " ('O', 'bù'),\n",
              " ('O', 'bao_nhiêu'),\n",
              " ('O', 'vậy'),\n",
              " ('O', 'shop'),\n",
              " ('[SEP]', '</s>'),\n",
              " ('[CLS]', '<s>'),\n",
              " ('O', 'cho'),\n",
              " ('O', 'em'),\n",
              " ('O', 'hỏi'),\n",
              " ('O', 'sản_phẩm'),\n",
              " ('O', 'cũ'),\n",
              " ('O', 'có'),\n",
              " ('O', 'bắt_buộc'),\n",
              " ('O', 'mua'),\n",
              " ('O', 'ở'),\n",
              " ('X', 'f@@'),\n",
              " ('O', 'pt'),\n",
              " ('O', 'shop'),\n",
              " ('O', 'mới'),\n",
              " ('O', 'được'),\n",
              " ('O', 'thu'),\n",
              " ('O', 'củ'),\n",
              " ('O', 'đổi_mới'),\n",
              " ('O', 'không'),\n",
              " ('O', 'ạ'),\n",
              " ('[SEP]', '</s>'),\n",
              " ('[CLS]', '<s>'),\n",
              " ('O', 'Hay'),\n",
              " ('O', 'mua'),\n",
              " ('O', 'ở'),\n",
              " ('O', 'đâu'),\n",
              " ('O', 'cũng'),\n",
              " ('O', 'được'),\n",
              " ('[SEP]', '</s>'),\n",
              " ('[CLS]', '<s>'),\n",
              " ('B-pr', 'S8'),\n",
              " ('I-pr', 'đổi'),\n",
              " ('I-pr', 'note'),\n",
              " ('I-pr', '10'),\n",
              " ('I-pr', '+'),\n",
              " ('O', 'các'),\n",
              " ('O', 'thêm'),\n",
              " ('[SEP]', '</s>'),\n",
              " ('[CLS]', '<s>'),\n",
              " ('B-pr', 'A8'),\n",
              " ('I-pr', 'plus'),\n",
              " ('I-pr', '2018'),\n",
              " ('O', 'qua'),\n",
              " ('B-pr', 'note'),\n",
              " ('I-pr', '10'),\n",
              " ('I-pr', 'plus'),\n",
              " ('O', 'bù'),\n",
              " ('O', 'tổng_cộng'),\n",
              " ('O', 'bao_nhiêu'),\n",
              " ('O', 'vậy'),\n",
              " ('[SEP]', '</s>'),\n",
              " ('[CLS]', '<s>'),\n",
              " ('O', 'màu'),\n",
              " ('O', 'bạc'),\n",
              " ('O', 'còn'),\n",
              " ('O', 'hàng'),\n",
              " ('O', 'ko'),\n",
              " ('[SEP]', '</s>'),\n",
              " ('[CLS]', '<s>'),\n",
              " ('O', 'Giảm'),\n",
              " ('O', '3'),\n",
              " ('O', 'triệu'),\n",
              " ('O', 'quà'),\n",
              " ('X', 'g@@'),\n",
              " ('B-pr', 'alaxy'),\n",
              " ('O', 'là'),\n",
              " ('O', 'giảm'),\n",
              " ('O', 'khi'),\n",
              " ('O', 'mua'),\n",
              " ('O', 'quà'),\n",
              " ('O', 'tặng'),\n",
              " ('O', 'hay'),\n",
              " ('O', 'giảm'),\n",
              " ('O', 'trực_tiếp'),\n",
              " ('O', 'trên'),\n",
              " ('O', 'máy'),\n",
              " ('O', 'luôn'),\n",
              " ('[SEP]', '</s>'),\n",
              " ('[CLS]', '<s>'),\n",
              " ('B-pr', 'A7'),\n",
              " ('I-pr', '('),\n",
              " ('O', '2018'),\n",
              " ('O', ')'),\n",
              " ('O', 'đổi'),\n",
              " ('O', 'sang'),\n",
              " ('B-pr', 'note'),\n",
              " ('I-pr', '10'),\n",
              " ('I-pr', 'plus'),\n",
              " ('O', 'thì'),\n",
              " ('O', 'bù'),\n",
              " ('X', 'b@@'),\n",
              " ('O', 'n'),\n",
              " ('[SEP]', '</s>'),\n",
              " ('[CLS]', '<s>'),\n",
              " ('X', 'g@@'),\n",
              " ('B-pr', 'alaxy'),\n",
              " ('X', 'gi@@'),\n",
              " ('I-pr', 'ft'),\n",
              " ('O', 'giảm'),\n",
              " ('X', '3@@'),\n",
              " ('O', 'tr'),\n",
              " ('B-pr', 'note'),\n",
              " ('I-pr', '10'),\n",
              " ('I-pr', '+'),\n",
              " ('O', 'còn'),\n",
              " ('O', 'áp_dụng'),\n",
              " ('O', 'ko'),\n",
              " ('O', 'shop'),\n",
              " ('[SEP]', '</s>'),\n",
              " ('[CLS]', '<s>'),\n",
              " ('B-pr', 'Samsung'),\n",
              " ('I-pr', 'S6'),\n",
              " ('O', 'màn'),\n",
              " ('O', 'còn'),\n",
              " ('O', 'đẹp'),\n",
              " ('O', 'muốn'),\n",
              " ('O', 'đổi'),\n",
              " ('O', 'qua'),\n",
              " ('B-pr', 'note'),\n",
              " ('I-pr', '10'),\n",
              " ('I-pr', '+'),\n",
              " ('O', ','),\n",
              " ('O', 'trừ'),\n",
              " ('O', 'hết'),\n",
              " ('O', 'km'),\n",
              " ('O', 'thì'),\n",
              " ('O', 'phải'),\n",
              " ('O', 'bù'),\n",
              " ('X', 'b@@'),\n",
              " ('O', 'n'),\n",
              " ('O', 'nữa'),\n",
              " ('O', 'hả'),\n",
              " ('O', 'shop'),\n",
              " ('[SEP]', '</s>'),\n",
              " ('[CLS]', '<s>'),\n",
              " ('B-pr', 'Note'),\n",
              " ('I-pr', 'fe'),\n",
              " ('O', 'còn'),\n",
              " ('O', 'mới'),\n",
              " ('O', 'đẹp'),\n",
              " ('O', 'đổi'),\n",
              " ('B-pr', 'note'),\n",
              " ('I-pr', '10'),\n",
              " ('I-pr', '+'),\n",
              " ('O', 'trừ'),\n",
              " ('O', 'hết'),\n",
              " ('O', 'khuyến_mại'),\n",
              " ('O', 'còn'),\n",
              " ('O', 'bù'),\n",
              " ('O', 'bao_nhiêu'),\n",
              " ('[SEP]', '</s>'),\n",
              " ('[CLS]', '<s>'),\n",
              " ('O', 'Mới'),\n",
              " ('O', 'mua'),\n",
              " ('X', 'note@@'),\n",
              " ('B-pr', '10'),\n",
              " ('I-pr', 'plus'),\n",
              " ('I-pr', 'màu'),\n",
              " ('I-pr', 'bạc'),\n",
              " ('O', ','),\n",
              " ('O', 'giờ'),\n",
              " ('O', 'trả'),\n",
              " ('O', 'lại'),\n",
              " ('O', 'bị'),\n",
              " ('O', 'mất'),\n",
              " ('O', 'bao_nhiêu'),\n",
              " ('O', 'phần_trăm'),\n",
              " ('O', 'vậy'),\n",
              " ('[SEP]', '</s>'),\n",
              " ('[CLS]', '<s>'),\n",
              " ('B-pr', 'Note'),\n",
              " ('I-pr', '9'),\n",
              " ('X', 'ss@@'),\n",
              " ('O', 'vn'),\n",
              " ('O', 'còn'),\n",
              " ('O', 'bảo_hành'),\n",
              " ('O', 'đổi'),\n",
              " ('B-pr', 'note'),\n",
              " ('I-pr', '10'),\n",
              " ('I-pr', '+'),\n",
              " ('O', 'thì'),\n",
              " ('O', 'bù'),\n",
              " ('X', 'b@@'),\n",
              " ('O', 'n'),\n",
              " ('O', 'vậy'),\n",
              " ('O', 'bạn'),\n",
              " ('[SEP]', '</s>'),\n",
              " ('[CLS]', '<s>'),\n",
              " ('X', 'A@@'),\n",
              " ('B-pr', '50'),\n",
              " ('O', 'có'),\n",
              " ('O', 'tham_gia'),\n",
              " ('O', 'đổi'),\n",
              " ('O', 'được'),\n",
              " ('O', 'không'),\n",
              " ('[SEP]', '</s>'),\n",
              " ('[CLS]', '<s>'),\n",
              " ('B-pr', 'Note@@'),\n",
              " ('I-pr', '8'),\n",
              " ('O', 'vẫn'),\n",
              " ('O', 'còn'),\n",
              " ('O', 'bảo_hành'),\n",
              " ('O', 'chính'),\n",
              " ('O', 'hãng'),\n",
              " ('O', 'máy'),\n",
              " ('O', 'mới'),\n",
              " ('[SEP]', '</s>'),\n",
              " ('[CLS]', '<s>'),\n",
              " ('O', 'Đổi'),\n",
              " ('B-pr', 'note'),\n",
              " ('I-pr', '10'),\n",
              " ('I-pr', '+'),\n",
              " ('O', 'bù'),\n",
              " ('X', 'b@@'),\n",
              " ('O', 'n'),\n",
              " ('O', 'ạ'),\n",
              " ('[SEP]', '</s>'),\n",
              " ('[CLS]', '<s>'),\n",
              " ('O', 'Nhờ'),\n",
              " ('O', 'shop'),\n",
              " ('O', 'tư_vấn'),\n",
              " ('B-pr', 'Note'),\n",
              " ('I-pr', '10'),\n",
              " ('I-pr', '+'),\n",
              " ('O', ','),\n",
              " ('O', 'màu'),\n",
              " ('O', 'đen'),\n",
              " ('O', ','),\n",
              " ('X', '25@@'),\n",
              " ('X', '6@@'),\n",
              " ('O', 'Gb'),\n",
              " ('[SEP]', '</s>'),\n",
              " ('[CLS]', '<s>'),\n",
              " ('O', 'Khu_vực'),\n",
              " ('X', 'h@@'),\n",
              " ('O', 'cm'),\n",
              " ('[SEP]', '</s>'),\n",
              " ('[CLS]', '<s>'),\n",
              " ('X', 'D@@'),\n",
              " ('O', 't'),\n",
              " ('I-pr', '09'),\n",
              " ('X', 'xx@@'),\n",
              " ('I-pr', 'xxx'),\n",
              " ('X', '9@@'),\n",
              " ('O', '91'),\n",
              " ('[SEP]', '</s>'),\n",
              " ('[CLS]', '<s>'),\n",
              " ('O', 'Hàng'),\n",
              " ('O', 'chuyển'),\n",
              " ('O', 'về'),\n",
              " ('O', 'thị_xã'),\n",
              " ('O', 'cai_@@'),\n",
              " ('X', 'l@@'),\n",
              " ('O', 'ậy'),\n",
              " ('O', ','),\n",
              " ('O', 'tiền'),\n",
              " ('O', 'Giang'),\n",
              " ('O', 'báo'),\n",
              " ('O', 'lâu'),\n",
              " ('O', 'thì'),\n",
              " ('[SEP]', '</s>'),\n",
              " ('[CLS]', '<s>'),\n",
              " ('O', 'Có'),\n",
              " ('O', 'vậy'),\n",
              " ('O', 'shop'),\n",
              " ('O', ','),\n",
              " ('O', 'mình'),\n",
              " ('O', 'muốn'),\n",
              " ('O', 'mua'),\n",
              " ('O', 'máy'),\n",
              " ('O', 'ở'),\n",
              " ('[SEP]', '</s>'),\n",
              " ('[CLS]', '<s>'),\n",
              " ('X', 'a@@'),\n",
              " ('B-pr', '8'),\n",
              " ('I-pr', 'plus'),\n",
              " ('I-pr', '2018'),\n",
              " ('O', 'qua'),\n",
              " ('B-pr', 'note'),\n",
              " ('I-pr', '10'),\n",
              " ('O', 'bù'),\n",
              " ('O', 'thêm'),\n",
              " ('O', 'bao_nhiêu'),\n",
              " ('[SEP]', '</s>'),\n",
              " ('[CLS]', '<s>'),\n",
              " ('O', 'Tại'),\n",
              " ('O', 'thời_điểm'),\n",
              " ('O', 'nay'),\n",
              " ('O', 'mình'),\n",
              " ('O', 'muốn'),\n",
              " ('O', 'trả'),\n",
              " ('X', 'go@@'),\n",
              " ('O', 'p'),\n",
              " ('O', 'mua'),\n",
              " ('B-pr', 'note'),\n",
              " ('I-pr', '10'),\n",
              " ('I-pr', '+'),\n",
              " ('O', 'tại'),\n",
              " ('O', 'Hà_Nội'),\n",
              " ('O', ','),\n",
              " ('O', 'trừ'),\n",
              " ('O', 'hết'),\n",
              " ('O', 'khuyến_mại'),\n",
              " ('O', 'và'),\n",
              " ('O', 'quà'),\n",
              " ('O', 'tặng'),\n",
              " ('O', 'thì'),\n",
              " ('O', 'giá'),\n",
              " ('O', 'trả_góp'),\n",
              " ('O', 'là'),\n",
              " ('O', 'bao_nhiêu'),\n",
              " ('[SEP]', '</s>'),\n",
              " ('[CLS]', '<s>'),\n",
              " ('O', 'Thị_xã'),\n",
              " ('O', 'cai_@@'),\n",
              " ('X', 'l@@'),\n",
              " ('O', 'ậy'),\n",
              " ('O', 'tỉnh'),\n",
              " ('O', 'tiền'),\n",
              " ('O', 'Giang'),\n",
              " ('O', 'còn'),\n",
              " ('O', 'hàng'),\n",
              " ('O', 'ko'),\n",
              " ('[SEP]', '</s>'),\n",
              " ('[CLS]', '<s>'),\n",
              " ('X', 'Sho@@'),\n",
              " ('X', 'p_@@'),\n",
              " ('O', 'HN'),\n",
              " ('O', 'còn'),\n",
              " ('O', 'máy'),\n",
              " ('O', 'ko'),\n",
              " ('[SEP]', '</s>'),\n",
              " ('[CLS]', '<s>'),\n",
              " ('X', 'Bảo_@@'),\n",
              " ('O', 'hành'),\n",
              " ('O', 'chính'),\n",
              " ('O', 'hãng'),\n",
              " ('O', 'còn'),\n",
              " ('O', 'tới'),\n",
              " ('[SEP]', '</s>'),\n",
              " ('[CLS]', '<s>'),\n",
              " ('B-pr', 'Samsung'),\n",
              " ('X', 'j@@'),\n",
              " ('X', '7@@'),\n",
              " ('I-pr', 'plus'),\n",
              " ('O', 'nứt'),\n",
              " ('O', 'màn_hình'),\n",
              " ('O', 'có'),\n",
              " ('O', 'đổi'),\n",
              " ('O', 'củ'),\n",
              " ('O', 'thu'),\n",
              " ('O', 'mới'),\n",
              " ('X', 'd@@'),\n",
              " ('O', 'c'),\n",
              " ('[SEP]', '</s>'),\n",
              " ('[CLS]', '<s>'),\n",
              " ('O', 'Shop'),\n",
              " ('O', 'cho'),\n",
              " ('O', 'hỏi'),\n",
              " ('O', 'lì_xì'),\n",
              " ('O', '3.000.000'),\n",
              " ('O', 'quà'),\n",
              " ('O', 'tặng'),\n",
              " ('X', 'g@@'),\n",
              " ('B-pr', 'alaxy'),\n",
              " ('O', 'có'),\n",
              " ('O', 'được'),\n",
              " ('O', 'trừ'),\n",
              " ('O', 'vào'),\n",
              " ('O', 'giá'),\n",
              " ('O', 'máy'),\n",
              " ('O', 'không'),\n",
              " ('O', 'shop'),\n",
              " ('[SEP]', '</s>'),\n",
              " ('[CLS]', '<s>'),\n",
              " ('X', 'Hưng_@@'),\n",
              " ('O', 'yên'),\n",
              " ('O', 'còn'),\n",
              " ('B-pr', 'note'),\n",
              " ('X', '10@@'),\n",
              " ('I-pr', 'plus'),\n",
              " ('O', 'mới'),\n",
              " ('O', 'màu'),\n",
              " ('O', 'bạc'),\n",
              " ('O', 'ko'),\n",
              " ('[SEP]', '</s>'),\n",
              " ('[CLS]', '<s>'),\n",
              " ('O', 'Cho'),\n",
              " ('O', 'hỏi'),\n",
              " ('X', 'nh@@'),\n",
              " ('O', 'a_trang'),\n",
              " ('O', 'còn'),\n",
              " ('O', 'hàng'),\n",
              " ('O', 'k'),\n",
              " ('[SEP]', '</s>'),\n",
              " ('[CLS]', '<s>'),\n",
              " ('B-pr', 'A7'),\n",
              " ('I-pr', '2018'),\n",
              " ('O', 'muốn'),\n",
              " ('O', 'qua'),\n",
              " ('X', 'no@@'),\n",
              " ('X', 't@@'),\n",
              " ('B-pr', '10'),\n",
              " ('O', 'thì'),\n",
              " ('O', 'phải'),\n",
              " ('O', 'thêm'),\n",
              " ('X', 'b@@'),\n",
              " ('O', 'n'),\n",
              " ('O', 'nữa'),\n",
              " ('O', 'vậy'),\n",
              " ('O', 'shop'),\n",
              " ('[SEP]', '</s>'),\n",
              " ('[CLS]', '<s>'),\n",
              " ('O', 'Mua'),\n",
              " ('O', 'trả_góp'),\n",
              " ('O', 'thì'),\n",
              " ('B-pr', 'Note'),\n",
              " ('I-pr', '10'),\n",
              " ('I-pr', '+'),\n",
              " ('O', 'chỉ'),\n",
              " ('X', '20@@'),\n",
              " ('O', 'Tr'),\n",
              " ('O', 'đúng'),\n",
              " ('O', 'không'),\n",
              " ('O', 'ạ'),\n",
              " ('[SEP]', '</s>'),\n",
              " ('[CLS]', '<s>'),\n",
              " ('O', 'cho'),\n",
              " ('O', 'mình'),\n",
              " ('O', 'hỏi'),\n",
              " ('O', '.'),\n",
              " ('O', 'chương_trình'),\n",
              " ...]"
            ]
          },
          "metadata": {
            "tags": []
          },
          "execution_count": 96
        }
      ]
    },
    {
      "cell_type": "markdown",
      "metadata": {
        "id": "rk60B5uRZLw6",
        "colab_type": "text"
      },
      "source": [
        "#Save & load model"
      ]
    },
    {
      "cell_type": "code",
      "metadata": {
        "id": "ymwxGm4rbtE4",
        "colab_type": "code",
        "colab": {}
      },
      "source": [
        "PATH = '/content/drive/My Drive/pre_model/phobert/ner_product/model_base_fe.h5'\n",
        "labels_value = ['B-pr','I-pr','O', 'PAD', '[CLS]', '[SEP]', 'X']\n",
        "label2idx = {label:indx for indx, label in enumerate(labels_value)}"
      ],
      "execution_count": 0,
      "outputs": []
    },
    {
      "cell_type": "code",
      "metadata": {
        "id": "lqOOUeNnwtGN",
        "colab_type": "code",
        "colab": {}
      },
      "source": [
        "model.save_weights(PATH)"
      ],
      "execution_count": 0,
      "outputs": []
    },
    {
      "cell_type": "code",
      "metadata": {
        "id": "jO8VLxB9LXZ5",
        "colab_type": "code",
        "colab": {}
      },
      "source": [
        "model.load_weights(PATH)"
      ],
      "execution_count": 0,
      "outputs": []
    },
    {
      "cell_type": "markdown",
      "metadata": {
        "id": "C2HOIe277Vly",
        "colab_type": "text"
      },
      "source": [
        "#Test\n"
      ]
    },
    {
      "cell_type": "markdown",
      "metadata": {
        "id": "GOq-cl3zC817",
        "colab_type": "text"
      },
      "source": [
        "***Must use VnCoreNLP to tokenize before test***"
      ]
    },
    {
      "cell_type": "code",
      "metadata": {
        "id": "9Sf-gL-L7aKv",
        "colab_type": "code",
        "colab": {}
      },
      "source": [
        "# test_sentence = 'Cho mình hỏi giữa redmi note 9s và samsung glx A31 thì tốc_độ xử_lí và pin ( thực_tế) loại nào tốt hơn vậy.'\n",
        "test_sentence = 'Có chuột k dây logitech k ạ'\n",
        "sent = '<s> ' + bpe.encode(test_sentence) +' </s>'\n",
        "sent_ids = vocab.encode_line(sent, append_eos=False, add_if_not_exist=False).long().tolist()"
      ],
      "execution_count": 0,
      "outputs": []
    },
    {
      "cell_type": "code",
      "metadata": {
        "id": "e6LCBRPK7fLt",
        "colab_type": "code",
        "colab": {}
      },
      "source": [
        "tokenized_sentence = pad_sequences([sent_ids], maxlen=MAX_LEN, dtype=\"long\", value=1.0, truncating=\"post\", padding=\"post\")\n",
        "input_ids = torch.tensor(tokenized_sentence)"
      ],
      "execution_count": 0,
      "outputs": []
    },
    {
      "cell_type": "code",
      "metadata": {
        "id": "tMRn5tZd7z31",
        "colab_type": "code",
        "colab": {}
      },
      "source": [
        "mask = [[float(m != 1) for m in val] for val in input_ids]\n",
        "mask = torch.tensor(mask)"
      ],
      "execution_count": 0,
      "outputs": []
    },
    {
      "cell_type": "code",
      "metadata": {
        "id": "JmQu9kGKL8BG",
        "colab_type": "code",
        "colab": {}
      },
      "source": [
        "data_loader = DataLoader(TensorDataset(input_ids, mask), batch_size=1)"
      ],
      "execution_count": 0,
      "outputs": []
    },
    {
      "cell_type": "code",
      "metadata": {
        "id": "Qwc5Ji7m727W",
        "colab_type": "code",
        "colab": {}
      },
      "source": [
        "batch = tuple(t.to(device) for t in batch)\n",
        "X, mask = batch\n",
        "with torch.no_grad():\n",
        "  features = model(X, mask)\n",
        "features = features.detach().cpu().numpy()"
      ],
      "execution_count": 0,
      "outputs": []
    },
    {
      "cell_type": "code",
      "metadata": {
        "id": "7juY2sUNOwkx",
        "colab_type": "code",
        "colab": {}
      },
      "source": [
        "predicts =  ner.predict(features)\n",
        "predicts = np.argmax(predicts, axis=-1)"
      ],
      "execution_count": 0,
      "outputs": []
    },
    {
      "cell_type": "code",
      "metadata": {
        "id": "v0-Qw0BdYfAT",
        "colab_type": "code",
        "colab": {}
      },
      "source": [
        "subword_label = list(zip([labels_value[label] for label in predicts[0]], sent.split()))\n",
        "subword_label"
      ],
      "execution_count": 0,
      "outputs": []
    },
    {
      "cell_type": "code",
      "metadata": {
        "id": "Vx2d8MTsYz7c",
        "colab_type": "code",
        "outputId": "e8e1771f-0de2-455e-8295-18b2be6a5073",
        "colab": {
          "base_uri": "https://localhost:8080/",
          "height": 461
        }
      },
      "source": [
        "sentence = []\n",
        "labels = []\n",
        "word = ''\n",
        "for label, sword in subword_label:\n",
        "  if '@@' not in sword:\n",
        "    word += sword\n",
        "    sentence.append(word)\n",
        "    labels.append(label)\n",
        "    word = ''\n",
        "    continue\n",
        "  word += sword.replace('@@', '')\n",
        "\n",
        "list(zip(sentence, labels))"
      ],
      "execution_count": 0,
      "outputs": [
        {
          "output_type": "execute_result",
          "data": {
            "text/plain": [
              "[('<s>', '[CLS]'),\n",
              " ('Cho', 'O'),\n",
              " ('mình', 'O'),\n",
              " ('hỏi', 'O'),\n",
              " ('giữa', 'O'),\n",
              " ('redmi', 'B-pr'),\n",
              " ('note', 'I-pr'),\n",
              " ('9s', 'I-pr'),\n",
              " ('và', 'O'),\n",
              " ('samsung', 'B-pr'),\n",
              " ('glx', 'I-pr'),\n",
              " ('A31', 'I-pr'),\n",
              " ('thì', 'O'),\n",
              " ('tốc_độ', 'O'),\n",
              " ('xử_lí', 'O'),\n",
              " ('và', 'O'),\n",
              " ('pin', 'O'),\n",
              " ('(', 'O'),\n",
              " ('thực_tế)', 'O'),\n",
              " ('loại', 'O'),\n",
              " ('nào', 'O'),\n",
              " ('tốt', 'O'),\n",
              " ('hơn', 'O'),\n",
              " ('vậy.', 'O'),\n",
              " ('</s>', '[SEP]')]"
            ]
          },
          "metadata": {
            "tags": []
          },
          "execution_count": 50
        }
      ]
    },
    {
      "cell_type": "code",
      "metadata": {
        "id": "B1AuVZ-ymK3f",
        "colab_type": "code",
        "outputId": "a3e750df-d8ea-4d27-db49-3fb53d446dbb",
        "colab": {
          "base_uri": "https://localhost:8080/",
          "height": 35
        }
      },
      "source": [
        "# Product perform by upper word\n",
        "sentence2string = ''\n",
        "for word, label in list(zip(sentence, labels))[1:len(sentence)-1]:\n",
        "  if label == 'O':\n",
        "    sentence2string += (word.lower() +' ')\n",
        "    continue\n",
        "  sentence2string += (word.upper() +' ')\n",
        "sentence2string"
      ],
      "execution_count": 0,
      "outputs": [
        {
          "output_type": "execute_result",
          "data": {
            "text/plain": [
              "'cho mình hỏi giữa REDMI NOTE 9S và SAMSUNG GLX A31 thì tốc_độ xử_lí và pin ( thực_tế) loại nào tốt hơn vậy. '"
            ]
          },
          "metadata": {
            "tags": []
          },
          "execution_count": 51
        }
      ]
    },
    {
      "cell_type": "code",
      "metadata": {
        "id": "aX6aTV7fK_lr",
        "colab_type": "code",
        "colab": {}
      },
      "source": [
        ""
      ],
      "execution_count": 0,
      "outputs": []
    }
  ]
}